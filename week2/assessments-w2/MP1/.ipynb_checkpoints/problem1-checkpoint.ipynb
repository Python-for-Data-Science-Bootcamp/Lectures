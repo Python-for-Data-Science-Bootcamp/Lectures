{
 "cells": [
  {
   "cell_type": "markdown",
   "metadata": {
    "nbgrader": {
     "grade": false,
     "grade_id": "jupyter",
     "locked": true,
     "schema_version": 3,
     "solution": false
    }
   },
   "source": [
    "# Python for Data Science Bootcamp\n",
    "## Mini Project 1\n",
    "\n",
    "NOTE: This mini project has 4 problems.  Please write your code in the designated portion of the autograded answer cell.\n",
    "\n",
    "For this problem set, we'll be using the Jupyter notebook and nbgrader:\n",
    "\n",
    "![](jupyter.png)\n",
    "\n",
    "©2020 Luis Morales. All rights reserved. \n",
    "\n",
    "## Problem 1 (1 point)\n",
    "\n",
    "Given a list of integers, return indices of the two numbers such that they add up to a specific target. The indices should be in an increasing order. You may assume that each input would have exactly one solution, and you may not use the same element twice."
   ]
  },
  {
   "cell_type": "code",
   "execution_count": 5,
   "metadata": {
    "nbgrader": {
     "grade": false,
     "grade_id": "twosum",
     "locked": false,
     "schema_version": 3,
     "solution": true,
     "task": false
    }
   },
   "outputs": [],
   "source": [
    "def TwoSum(nums, target):\n",
    "    \"\"\"\n",
    "    :type nums: List[int]\n",
    "    :type target: int\n",
    "    :rtype: List[int]\n",
    "    \"\"\"\n",
    "    ### BEGIN SOLUTION\n",
    "    for i in range(len(nums)):\n",
    "        if ((target-nums[i]) in nums[i+1:]):\n",
    "            return([i,nums[i+1:].index(target-nums[i])+i+1])\n",
    "        \n",
    "\n",
    "#    for i in range(len(nums)):\n",
    "#        for j in range(i+1,len(nums)):\n",
    "#            if(nums[i]+nums[j]==target):\n",
    "#               return [i,j]\n",
    "\n",
    "    ### END SOLUTION    "
   ]
  },
  {
   "cell_type": "code",
   "execution_count": 6,
   "metadata": {
    "nbgrader": {
     "grade": true,
     "grade_id": "twosumtest",
     "locked": true,
     "points": 1,
     "schema_version": 3,
     "solution": false,
     "task": false
    }
   },
   "outputs": [],
   "source": [
    "'''this TwoSum function should pass the following tests'''\n",
    "assert (TwoSum([2, 7, 11, 15],9)==[0,1])\n",
    "assert (TwoSum([3,2,4],6)==[1,2])\n",
    "assert (TwoSum([0,4,3,0],0)==[0,3])\n",
    "assert (TwoSum([-1,-2,-3,-4,-5],-8)==[2,4])"
   ]
  },
  {
   "cell_type": "markdown",
   "metadata": {
    "nbgrader": {
     "grade": false,
     "grade_id": "cell-7b7b8b2b7e456082",
     "locked": true,
     "schema_version": 3,
     "solution": false,
     "task": false
    }
   },
   "source": [
    "## Problem 2 (1 point)\n",
    "\n",
    "Given a 32-bit signed integer, reverse digits of an integer. If the return number is outside this range [−2^31,2^31−1], then return 0.\n",
    "\n",
    "example: input 12345 output 54321"
   ]
  },
  {
   "cell_type": "code",
   "execution_count": 4,
   "metadata": {
    "nbgrader": {
     "grade": false,
     "grade_id": "reverse",
     "locked": false,
     "schema_version": 3,
     "solution": true
    }
   },
   "outputs": [],
   "source": [
    "def myreverse(x):\n",
    "    ''':type x: int\n",
    "       :rtype: int\n",
    "    '''\n",
    "    ### BEGIN SOLUTION\n",
    "    x1=abs(x)\n",
    "    x1_str=str(x1)\n",
    "    x2=int(x1_str[::-1])\n",
    "    if(x2>2**31-1):\n",
    "        return 0\n",
    "    else:\n",
    "        if(x>=0):\n",
    "            return x2\n",
    "        else:\n",
    "            return -x2\n",
    "    ### END SOLUTION"
   ]
  },
  {
   "cell_type": "code",
   "execution_count": 11,
   "metadata": {
    "nbgrader": {
     "grade": true,
     "grade_id": "reversetest",
     "locked": false,
     "points": 1,
     "schema_version": 3,
     "solution": false
    }
   },
   "outputs": [],
   "source": [
    "assert(myreverse(120)==21)\n",
    "assert(myreverse(123)==321)\n",
    "assert(myreverse(-123)==-321)\n",
    "assert(myreverse(1534236469)==0)"
   ]
  },
  {
   "cell_type": "markdown",
   "metadata": {
    "nbgrader": {
     "grade": false,
     "grade_id": "cell-4c6accaf71092949",
     "locked": true,
     "schema_version": 3,
     "solution": false
    }
   },
   "source": [
    "## Problem 3 (1 point)\n",
    "\n",
    "Write a function to find the longest common prefix string amongst a list of strings. If there is no common prefix, return an empty string ''.\n",
    "\n",
    "example: input ['what','where','who'] output 'wh'"
   ]
  },
  {
   "cell_type": "code",
   "execution_count": 6,
   "metadata": {
    "nbgrader": {
     "grade": false,
     "grade_id": "longestpre",
     "locked": false,
     "schema_version": 3,
     "solution": true
    }
   },
   "outputs": [],
   "source": [
    "def longestCommonPrefix(strs):\n",
    "    \"\"\"\n",
    "    :type strs: List[str]\n",
    "    :rtype: str\n",
    "    \"\"\"\n",
    "    ### BEGIN SOLUTION\n",
    "    min_len_word=''\n",
    "    min_len_word_len=None\n",
    "    for word in strs:\n",
    "        if((min_len_word_len==None) or (len(word)<min_len_word_len) ):\n",
    "            min_len_word=word\n",
    "            min_len_word_len=len(word)\n",
    "            \n",
    "    common_prefix=''\n",
    "    for i in range(min_len_word_len):\n",
    "        for word in strs:\n",
    "            if not (word.startswith(min_len_word[:(i+1)])):\n",
    "                return common_prefix\n",
    "        common_prefix=min_len_word[:(i+1)]\n",
    "        \n",
    "    return common_prefix\n",
    "    ### END SOLUTION"
   ]
  },
  {
   "cell_type": "code",
   "execution_count": 7,
   "metadata": {
    "nbgrader": {
     "grade": true,
     "grade_id": "longestpretest",
     "locked": false,
     "points": 1,
     "schema_version": 3,
     "solution": false
    }
   },
   "outputs": [],
   "source": [
    "assert longestCommonPrefix([\"flower\",\"flow\",\"flight\"])=='fl'\n",
    "assert longestCommonPrefix(['what','where','who'] )=='wh'"
   ]
  },
  {
   "cell_type": "markdown",
   "metadata": {
    "nbgrader": {
     "grade": false,
     "grade_id": "cell-b7d6b8583ec5a971",
     "locked": true,
     "schema_version": 3,
     "solution": false,
     "task": false
    }
   },
   "source": [
    "## Problem 4 (1 point)\n",
    "\n",
    "There are 13 lamps on the table. Starting from 1, we turn off the lamp at every 5th, when the count reach 13, start from 1 again. Write a function that return the order of lamps being turned off. In this case, the return list would be [5, 10, 2, 8, 1, 9, 4, 13, 12, 3, 7, 11, 6]. Note that the turn-off lamps would not count again."
   ]
  },
  {
   "cell_type": "code",
   "execution_count": 8,
   "metadata": {
    "nbgrader": {
     "grade": false,
     "grade_id": "lamp",
     "locked": false,
     "schema_version": 3,
     "solution": true,
     "task": false
    }
   },
   "outputs": [],
   "source": [
    "def turn_off_order():\n",
    "    ### BEGIN SOLUTION\n",
    "    lamplist = [ 1, 2, 3, 4, 5, 6, 7, 8, 9, 10, 11, 12, 13 ]\n",
    "    \n",
    "    ''' your code here '''\n",
    "    offNums = 0\n",
    "    position = 0\n",
    "    count = 1\n",
    "    order = []\n",
    "    while offNums != 13:\n",
    "        if lamplist[position] == -1:\n",
    "            position = (position + 1) % 13\n",
    "            continue\n",
    "        \n",
    "        if count % 5 == 0:\n",
    "            order.append(lamplist[position])\n",
    "            lamplist[position] = -1\n",
    "            offNums += 1\n",
    "        \n",
    "        position = (position + 1) % 13\n",
    "        count += 1\n",
    "             \n",
    "    return order\n",
    "    ### END SOLUTION"
   ]
  },
  {
   "cell_type": "code",
   "execution_count": 9,
   "metadata": {
    "nbgrader": {
     "grade": true,
     "grade_id": "lamptest",
     "locked": true,
     "points": 1,
     "schema_version": 3,
     "solution": false,
     "task": false
    }
   },
   "outputs": [],
   "source": [
    "assert turn_off_order() == [5, 10, 2, 8, 1, 9, 4, 13, 12, 3, 7, 11, 6]"
   ]
  }
 ],
 "metadata": {
  "celltoolbar": "Create Assignment",
  "kernelspec": {
   "display_name": "Python 3",
   "language": "python",
   "name": "python3"
  },
  "language_info": {
   "codemirror_mode": {
    "name": "ipython",
    "version": 3
   },
   "file_extension": ".py",
   "mimetype": "text/x-python",
   "name": "python",
   "nbconvert_exporter": "python",
   "pygments_lexer": "ipython3",
   "version": "3.7.4"
  }
 },
 "nbformat": 4,
 "nbformat_minor": 1
}
