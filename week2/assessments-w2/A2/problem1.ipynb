{
 "cells": [
  {
   "cell_type": "markdown",
   "metadata": {
    "nbgrader": {
     "grade": false,
     "grade_id": "jupyter",
     "locked": true,
     "schema_version": 3,
     "solution": false
    }
   },
   "source": [
    "# Python for Data Science Bootcamp\n",
    "## Assignment 2\n",
    "\n",
    "NOTE: This assignment has 4 problems.  Please write your code in the designated portion of the autograded answer cell.\n",
    "\n",
    "For this problem set, we'll be using the Jupyter notebook and nbgrader:\n",
    "\n",
    "![](jupyter.png)\n",
    "\n",
    "©2020 Luis Morales. All rights reserved. "
   ]
  },
  {
   "cell_type": "markdown",
   "metadata": {
    "nbgrader": {
     "grade": false,
     "grade_id": "cell-7c27096ed0a46c7b",
     "locked": true,
     "schema_version": 3,
     "solution": false,
     "task": false
    }
   },
   "source": [
    "## Problem 1 (1 point)\n",
    "\n",
    "Create a function that checks if the input number is prime or not. Function value will be True if argument is a prime number and False otherwise."
   ]
  },
  {
   "cell_type": "code",
   "execution_count": 1,
   "metadata": {
    "nbgrader": {
     "grade": false,
     "grade_id": "is_prime",
     "locked": false,
     "schema_version": 3,
     "solution": true,
     "task": false
    }
   },
   "outputs": [],
   "source": [
    "def is_prime(num):\n",
    "    \"\"\"check if the input number is prime or not.\n",
    "    A positive integer greater than 1 which has no other factors except 1 and the number itself is called a prime number.\n",
    "    in your solution, you can consider num is already verified as a positive integer!\n",
    "    \"\"\"\n",
    "    \n",
    "    if(type(num)!=int):\n",
    "        raise VauleError('input is not an integer')\n",
    "    if(num<=0):\n",
    "        raise VauleError('input is not an integer')\n",
    "    ### BEGIN SOLUTION    \n",
    "    if num > 1:\n",
    "        for i in range(2,num):\n",
    "            if (num % i) == 0:\n",
    "                return False\n",
    "        return True\n",
    "    else:\n",
    "        return False\n",
    "    ### END SOLUTION"
   ]
  },
  {
   "cell_type": "code",
   "execution_count": 2,
   "metadata": {
    "nbgrader": {
     "grade": true,
     "grade_id": "is_prime_correct_input",
     "locked": true,
     "points": 1,
     "schema_version": 3,
     "solution": false,
     "task": false
    }
   },
   "outputs": [],
   "source": [
    "\"\"\"Check that is_prime function returns the correct output for several inputs\"\"\"\n",
    "assert is_prime(3) == True\n",
    "assert is_prime(11) == True\n",
    "assert is_prime(21) == False\n",
    "assert is_prime(1) == False"
   ]
  },
  {
   "cell_type": "markdown",
   "metadata": {
    "nbgrader": {
     "grade": false,
     "grade_id": "cell-7b7b8b2b7e456082",
     "locked": true,
     "schema_version": 3,
     "solution": false,
     "task": false
    }
   },
   "source": [
    "## Problem 2 (1 point)\n",
    "\n",
    "Write a function that helps identify a criminal(s) among a list of six suspects (designated A through F). The police has been conducting an investigation and they have reached the following conclusions: \n",
    "\n",
    "1. There is at least one criminal among A and B;\n",
    "2. There are at least two criminals among A, E and F;\n",
    "3. A and D can not be both criminals;\n",
    "4. B and C may be both criminals or they are both innocent;\n",
    "5. There is only one criminals in C and D;\n",
    "6. If D is innocent, E is also innocent.\n",
    "\n",
    "The output of your function must be a list of 6 integers with each digit corresponding to one of the suspects. If the \\\\(i^{th}\\\\) element of this returned list is 0 if the \\\\(i^{th}\\\\) suspect is not a criminal.  Otherwise, return a 1. "
   ]
  },
  {
   "cell_type": "code",
   "execution_count": 10,
   "metadata": {
    "nbgrader": {
     "grade": false,
     "grade_id": "whoiscriminal",
     "locked": false,
     "schema_version": 3,
     "solution": true
    }
   },
   "outputs": [],
   "source": [
    "def whoIsCriminal():\n",
    "    ### BEGIN SOLUTION\n",
    "    is_criminal = [0, 1]\n",
    "    #name = ['A', 'B', 'C', 'D', 'E', 'F']\n",
    "    \n",
    "    for a in is_criminal:\n",
    "        for b in is_criminal:\n",
    "            for c in is_criminal:\n",
    "                for d in is_criminal:\n",
    "                    for e in is_criminal:\n",
    "                        for f in is_criminal:\n",
    "                            if a + b >= 1 and a + e + f >= 2 and a + d != 2 and (b + c == 2 or b + c == 0) and c + d == 1 and  (d + e == 0 or d == 1) == True:\n",
    "                                return [a, b, c, d, e, f]\n",
    "\n",
    "    ### END SOLUTION"
   ]
  },
  {
   "cell_type": "code",
   "execution_count": 11,
   "metadata": {},
   "outputs": [
    {
     "data": {
      "text/plain": [
       "[1, 1, 1, 0, 0, 1]"
      ]
     },
     "execution_count": 11,
     "metadata": {},
     "output_type": "execute_result"
    }
   ],
   "source": [
    "whoIsCriminal()"
   ]
  },
  {
   "cell_type": "code",
   "execution_count": 9,
   "metadata": {
    "nbgrader": {
     "grade": true,
     "grade_id": "correct_cubics",
     "locked": false,
     "points": 1,
     "schema_version": 3,
     "solution": false
    }
   },
   "outputs": [],
   "source": [
    "assert whoIsCriminal() == [1, 1, 1, 0, 0, 1]"
   ]
  },
  {
   "cell_type": "markdown",
   "metadata": {
    "nbgrader": {
     "grade": false,
     "grade_id": "cell-4c6accaf71092949",
     "locked": true,
     "schema_version": 3,
     "solution": false
    }
   },
   "source": [
    "## Problem 3 (1 point)\n",
    "\n",
    "Given a list of size n, find the majority element. The majority element is the element that appears more than n/2 times.\n",
    "\n",
    "You may assume that the list is non-empty and the majority element always exist in the list."
   ]
  },
  {
   "cell_type": "code",
   "execution_count": 12,
   "metadata": {
    "nbgrader": {
     "grade": false,
     "grade_id": "majorityelement",
     "locked": false,
     "schema_version": 3,
     "solution": true
    }
   },
   "outputs": [],
   "source": [
    "def majorityElement(nums):\n",
    "   \n",
    "    ### BEGIN SOLUTION\n",
    "    newnums=sorted(nums)\n",
    "    return newnums[int(len(nums)/2)] \n",
    "    ### END SOLUTION"
   ]
  },
  {
   "cell_type": "code",
   "execution_count": 8,
   "metadata": {
    "nbgrader": {
     "grade": true,
     "grade_id": "checkmajorityelement",
     "locked": false,
     "points": 1,
     "schema_version": 3,
     "solution": false
    }
   },
   "outputs": [],
   "source": [
    "\"\"\"Check that majorityElement function returns the correct output\"\"\"\n",
    "assert (majorityElement([3,7,3]) == 3)\n",
    "assert (majorityElement([2,2,1,1,1,2,2]) == 2)\n",
    "assert (majorityElement([3,2,3]) == 3)\n",
    "assert (majorityElement(['abc','abc','dfdwfad']) == 'abc')\n"
   ]
  },
  {
   "cell_type": "markdown",
   "metadata": {
    "nbgrader": {
     "grade": false,
     "grade_id": "cell-b7d6b8583ec5a971",
     "locked": true,
     "schema_version": 3,
     "solution": false,
     "task": false
    }
   },
   "source": [
    "## Problem 4 (1 point)\n",
    "\n",
    "Write a function that encodes an input string by spliting it by the middle and reversing the two substrings."
   ]
  },
  {
   "cell_type": "code",
   "execution_count": 15,
   "metadata": {
    "nbgrader": {
     "grade": false,
     "grade_id": "encodestring",
     "locked": false,
     "schema_version": 3,
     "solution": true,
     "task": false
    }
   },
   "outputs": [],
   "source": [
    "def encodeString(ori_str):\n",
    "    ### BEGIN SOLUTION\n",
    "    middle_idx = len(ori_str) // 2\n",
    "    return ori_str[middle_idx-1 :  : -1] + ori_str[ : middle_idx-1 : -1]\n",
    "    ### END SOLUTION"
   ]
  },
  {
   "cell_type": "code",
   "execution_count": 16,
   "metadata": {
    "nbgrader": {
     "grade": true,
     "grade_id": "encodestringtest",
     "locked": true,
     "points": 1,
     "schema_version": 3,
     "solution": false,
     "task": false
    }
   },
   "outputs": [],
   "source": [
    "assert encodeString('AaAaBbBb') == 'aAaAbBbB'\n",
    "assert encodeString('This line must be printed backwards and splitted in the middle.') \\\n",
    "    == 'wkcab detnirp eb tsum enil sihT.elddim eht ni dettilps dna sdra'\n",
    "assert encodeString(encodeString('This lines must be printed backwards and splitted in the middle.')) \\\n",
    "    == 'This lines must be printed backwards and splitted in the middle.'\n",
    "assert encodeString('This is a very secret message!') \\\n",
    "    == ' yrev a si sihT!egassem terces'\n",
    "assert encodeString(encodeString('This is a very secret message!')) \\\n",
    "    == 'This is a very secret message!'\n",
    "assert encodeString('Happy programming~') \\\n",
    "    == 'orp yppaH~gnimmarg'\n",
    "assert encodeString(encodeString('Happy programming~')) \\\n",
    "    == 'Happy programming~'"
   ]
  }
 ],
 "metadata": {
  "celltoolbar": "Create Assignment",
  "kernelspec": {
   "display_name": "Python 3",
   "language": "python",
   "name": "python3"
  },
  "language_info": {
   "codemirror_mode": {
    "name": "ipython",
    "version": 3
   },
   "file_extension": ".py",
   "mimetype": "text/x-python",
   "name": "python",
   "nbconvert_exporter": "python",
   "pygments_lexer": "ipython3",
   "version": "3.7.4"
  }
 },
 "nbformat": 4,
 "nbformat_minor": 1
}
