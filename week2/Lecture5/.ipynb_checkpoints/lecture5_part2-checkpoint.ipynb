{
 "cells": [
  {
   "cell_type": "markdown",
   "metadata": {},
   "source": [
    "# Python for Data Science Bootcamp\n",
    "## Lecture 5 - Part 2\n",
    "## Textbook reference: PY4E \n",
    "### Chapter 9\n",
    "### Lesson 10: Dictionaries\n",
    "\n",
    "Here are the topics for this lecture:\n",
    "\n",
    " * Dictionaries\n",
    "\n",
    "Let's get started..."
   ]
  },
  {
   "cell_type": "markdown",
   "metadata": {},
   "source": [
    "**Dictionaries:** In Python, a dictionary is a data collection which is unordered, changeable and indexed. In Python dictionaries are written with curly brackets {}, and they have keys (used instead of numbered index) and values.  \n",
    "\n",
    "Key characteristics include:\n",
    "\n",
    "* Dictionary is disorganized (using key value instead of numbered index)\n",
    "* Dictionary is an associative array (relationship between key and value)\n",
    "* Dictionaries are like a list except they use keys instead of numbers to look up values\n",
    "* Dictionary literals (or constants) defined using curly brackets { }\n",
    "* To create a dictionary you use keyword dict()\n",
    "\n",
    "Let's get started..."
   ]
  },
  {
   "cell_type": "markdown",
   "metadata": {},
   "source": [
    "Let us create a dictionary called **purse** and assign keys and values"
   ]
  },
  {
   "cell_type": "code",
   "execution_count": 2,
   "metadata": {},
   "outputs": [
    {
     "name": "stdout",
     "output_type": "stream",
     "text": [
      "{'money': 12, 'candy': 3, 'tissues': 75}\n",
      "3\n",
      "{'money': 12, 'candy': 5, 'tissues': 75}\n"
     ]
    }
   ],
   "source": [
    "# Define dictionary\n",
    "purse = dict()\n",
    "# Add elements to dictionary, keys and values\n",
    "purse['money'] = 12\n",
    "purse['candy'] = 3\n",
    "purse['tissues'] = 75\n",
    "# Print whole dictionary\n",
    "print(purse)\n",
    "# Print specific element of dictionary\n",
    "print(purse['candy'])\n",
    "# Modify value of dictionary element\n",
    "purse['candy'] = purse['candy'] + 2 # Lets add 2 to value of 'candy'\n",
    "print(purse)"
   ]
  },
  {
   "cell_type": "markdown",
   "metadata": {},
   "source": [
    "Let's create another dictionary called **ddd** and add keys and values"
   ]
  },
  {
   "cell_type": "code",
   "execution_count": 66,
   "metadata": {},
   "outputs": [
    {
     "name": "stdout",
     "output_type": "stream",
     "text": [
      "{'age': 21, 'course': 182}\n",
      "{'age': 21, 'course': 182, 'ages': 25}\n"
     ]
    }
   ],
   "source": [
    "ddd = dict()\n",
    "ddd['age'] = 21\n",
    "ddd['course'] = 182\n",
    "print(ddd)\n",
    "ddd['ages'] = 25\n",
    "print(ddd)"
   ]
  },
  {
   "cell_type": "markdown",
   "metadata": {},
   "source": [
    "We can create empty dictionaries"
   ]
  },
  {
   "cell_type": "code",
   "execution_count": 3,
   "metadata": {},
   "outputs": [
    {
     "name": "stdout",
     "output_type": "stream",
     "text": [
      "<class 'dict'> <class 'list'>\n"
     ]
    }
   ],
   "source": [
    "a={}\n",
    "b=[]\n",
    "print(type(a), type(b))"
   ]
  },
  {
   "cell_type": "markdown",
   "metadata": {},
   "source": [
    "We can create an idiom (Remember that?) that produces a dictionary that shows frequency at which disctint elements appear on a **list** (see example below)"
   ]
  },
  {
   "cell_type": "code",
   "execution_count": 2,
   "metadata": {},
   "outputs": [
    {
     "name": "stdout",
     "output_type": "stream",
     "text": [
      "{'csev': 2, 'cwen': 2, 'zqian': 1}\n"
     ]
    }
   ],
   "source": [
    "# Define dictionary that shows word frequency\n",
    "counts = dict()\n",
    "# Define list\n",
    "names = ['csev', 'cwen', 'csev', 'zqian', 'cwen']\n",
    "# Iterate over list elements\n",
    "for name in names : \n",
    "    # check if first time we see it by checking for name in counts\n",
    "    if name not in counts:  \n",
    "        # if yes, add element to dictionary with name as key and value as 1\n",
    "        counts[name] = 1 \n",
    "    else : # Otherwise\n",
    "        # increment value in dictionary by one\n",
    "        counts[name] = counts[name] + 1 \n",
    "print(counts)"
   ]
  },
  {
   "cell_type": "markdown",
   "metadata": {},
   "source": [
    "We can create an idiom that checks for a particular key in directory, if yes assign a value to variable \"x\", otherwise assign zero to x"
   ]
  },
  {
   "cell_type": "code",
   "execution_count": 3,
   "metadata": {},
   "outputs": [
    {
     "name": "stdout",
     "output_type": "stream",
     "text": [
      "jimmy 0\n",
      "{'csev': 2, 'cwen': 2, 'zqian': 1}\n"
     ]
    }
   ],
   "source": [
    "# Name I'm looking for\n",
    "name='jimmy'\n",
    "# Check if name on key list\n",
    "if name in counts:\n",
    "    # If so, capture counts\n",
    "    x = counts[name]\n",
    "else :\n",
    "    # Otherwise, capture zero\n",
    "    x = 0\n",
    "# Display result\n",
    "print(name,x)\n",
    "# Print the whole dictionary\n",
    "print(counts)"
   ]
  },
  {
   "cell_type": "code",
   "execution_count": 11,
   "metadata": {},
   "outputs": [],
   "source": [
    "# We could use method or function get() to make the above idiom \n",
    "# more condensed.  This method will check if D.get(k[,d]) -> D[k] \n",
    "# if k in D, else d.  d defaults to None."
   ]
  },
  {
   "cell_type": "code",
   "execution_count": 6,
   "metadata": {},
   "outputs": [],
   "source": [
    "counts.get?"
   ]
  },
  {
   "cell_type": "code",
   "execution_count": 7,
   "metadata": {},
   "outputs": [
    {
     "name": "stdout",
     "output_type": "stream",
     "text": [
      "derek -1\n"
     ]
    }
   ],
   "source": [
    "name='derek'\n",
    "# Check if name is on counts, if yes returns count if not return -1\n",
    "x = counts.get(name, -1)\n",
    "print(name,x)"
   ]
  },
  {
   "cell_type": "markdown",
   "metadata": {},
   "source": [
    "### We can also modify our histogram idiom using get method"
   ]
  },
  {
   "cell_type": "code",
   "execution_count": 9,
   "metadata": {},
   "outputs": [
    {
     "name": "stdout",
     "output_type": "stream",
     "text": [
      "{'csev': 2, 'cwen': 2, 'zqian': 1}\n",
      "wiki None\n"
     ]
    }
   ],
   "source": [
    "counts = dict()\n",
    "names = ['csev', 'cwen', 'csev', 'zqian', 'cwen']\n",
    "# Iterate over each element of list\n",
    "for name in names :\n",
    "    # If name on list add 1 to value, otherwise add zero\n",
    "    counts[name] = counts.get(name, 0) + 1\n",
    "print(counts)\n",
    "# Is wiki on list?\n",
    "name='wiki'\n",
    "# Check if name is on counts, if yes returns count if not return -1\n",
    "x = counts.get(name)\n",
    "print(name,x)"
   ]
  },
  {
   "cell_type": "code",
   "execution_count": 4,
   "metadata": {},
   "outputs": [],
   "source": [
    "new = dict()\n",
    "for i,j in counts.items():\n",
    "    new[j] = i \n",
    "scounts=sorted(new.items())"
   ]
  },
  {
   "cell_type": "code",
   "execution_count": 6,
   "metadata": {},
   "outputs": [
    {
     "name": "stdout",
     "output_type": "stream",
     "text": [
      "['chuck', 'fred', 'jan']\n",
      "dict_keys(['chuck', 'fred', 'jan'])\n",
      "dict_values([1, 42, 100])\n",
      "dict_items([('chuck', 1), ('fred', 42), ('jan', 100)])\n"
     ]
    }
   ],
   "source": [
    "data = { 'chuck' : 1 , 'fred' : 42, 'jan': 100}\n",
    "print(list(data)) # Show a list of keys in dictionary\n",
    "print(data.keys()) # Show keys in dictionary\n",
    "print(data.values()) # Show values in dictionary\n",
    "print(data.items()) # Show all elements of dictionary"
   ]
  },
  {
   "cell_type": "code",
   "execution_count": 7,
   "metadata": {},
   "outputs": [
    {
     "data": {
      "text/plain": [
       "['__class__',\n",
       " '__contains__',\n",
       " '__delattr__',\n",
       " '__delitem__',\n",
       " '__dir__',\n",
       " '__doc__',\n",
       " '__eq__',\n",
       " '__format__',\n",
       " '__ge__',\n",
       " '__getattribute__',\n",
       " '__getitem__',\n",
       " '__gt__',\n",
       " '__hash__',\n",
       " '__init__',\n",
       " '__init_subclass__',\n",
       " '__iter__',\n",
       " '__le__',\n",
       " '__len__',\n",
       " '__lt__',\n",
       " '__ne__',\n",
       " '__new__',\n",
       " '__reduce__',\n",
       " '__reduce_ex__',\n",
       " '__repr__',\n",
       " '__setattr__',\n",
       " '__setitem__',\n",
       " '__sizeof__',\n",
       " '__str__',\n",
       " '__subclasshook__',\n",
       " 'clear',\n",
       " 'copy',\n",
       " 'fromkeys',\n",
       " 'get',\n",
       " 'items',\n",
       " 'keys',\n",
       " 'pop',\n",
       " 'popitem',\n",
       " 'setdefault',\n",
       " 'update',\n",
       " 'values']"
      ]
     },
     "execution_count": 7,
     "metadata": {},
     "output_type": "execute_result"
    }
   ],
   "source": [
    "# What else can you do with dictionaries?\n",
    "dir(data)"
   ]
  },
  {
   "cell_type": "code",
   "execution_count": null,
   "metadata": {},
   "outputs": [],
   "source": []
  }
 ],
 "metadata": {
  "kernelspec": {
   "display_name": "Python 3",
   "language": "python",
   "name": "python3"
  },
  "language_info": {
   "codemirror_mode": {
    "name": "ipython",
    "version": 3
   },
   "file_extension": ".py",
   "mimetype": "text/x-python",
   "name": "python",
   "nbconvert_exporter": "python",
   "pygments_lexer": "ipython3",
   "version": "3.7.4"
  }
 },
 "nbformat": 4,
 "nbformat_minor": 2
}
