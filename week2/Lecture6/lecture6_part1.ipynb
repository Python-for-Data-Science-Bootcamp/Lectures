{
 "cells": [
  {
   "cell_type": "markdown",
   "metadata": {},
   "source": [
    "# Python for Data Science Bootcamp\n",
    "## Lecture 6 - Part 1\n",
    "## Textbook reference: PY4E \n",
    "### Chapter 7\n",
    "### Lesson 8: Files\n",
    "\n",
    "Here are the topics for this lecture:\n",
    "\n",
    " * Files\n",
    "\n",
    "Let's get started..."
   ]
  },
  {
   "cell_type": "markdown",
   "metadata": {},
   "source": [
    "**Files:** Allow you to access and store data into long term memory.  \n",
    "\n",
    "Key characteristics:\n",
    "\n",
    "* Using **open()** you create a \"handle\" (or pointer) to a file (see below)\n",
    "* You can think of it as a type of data structure where information is organized into lines.  \n",
    "* The end of each line is demarcated with character \\n (newline)\n",
    "* To close an opend file you use close method"
   ]
  },
  {
   "cell_type": "code",
   "execution_count": 49,
   "metadata": {},
   "outputs": [],
   "source": [
    "# Let's find out about this function\n",
    "open?"
   ]
  },
  {
   "cell_type": "code",
   "execution_count": 50,
   "metadata": {},
   "outputs": [],
   "source": [
    "#########################################################\n",
    "# Let open a file and create a word frequency histogram #\n",
    "#########################################################\n",
    "\n",
    "handle = open('aipi.txt','rt') # open file\n",
    "counts = dict() # Define dictionary\n",
    "for line in handle: # For each line in dictionary\n",
    "    words = line.split() # Split line into words and save into list words\n",
    "    for word in words: # For each word in line\n",
    "        counts[word] = counts.get(word,0) + 1 # Create histogram dictionary\n",
    "handle.close() # Close file"
   ]
  },
  {
   "cell_type": "code",
   "execution_count": 51,
   "metadata": {},
   "outputs": [
    {
     "name": "stdout",
     "output_type": "stream",
     "text": [
      "and 23\n"
     ]
    }
   ],
   "source": [
    "#########################################\n",
    "# Let's identify the most frequent word #\n",
    "#########################################\n",
    "\n",
    "# Let's initialize a couple of variables\n",
    "bigcount = None\n",
    "bigword = None\n",
    "# Notice that my iterator has two values because it is a dictionary\n",
    "for word,count in counts.items(): # For each entry in dictionary\n",
    "    # if this is first element or count is biggest so far\n",
    "    if bigcount is None or count > bigcount:  # Check to see if most frequent word\n",
    "        bigword = word\n",
    "        bigcount = count\n",
    "print(bigword, bigcount) # our most frequent words appeared this many times"
   ]
  },
  {
   "cell_type": "code",
   "execution_count": 52,
   "metadata": {},
   "outputs": [
    {
     "name": "stdout",
     "output_type": "stream",
     "text": [
      "[('(AI)', 1), ('(AIPI)', 1), ('15', 2), ('2020', 3), ('2020.', 1), ('2021.', 1), ('29,', 1), ('AI', 10), ('AI,', 1), ('AI-enabled', 1), ('AI.', 1), ('AI/ML', 1), ('AI/machine', 1), ('AIPI', 5), ('AIPI’s', 1), ('Although', 1), ('Artificial', 1), ('August', 2), ('Certificate', 4), ('Courses', 1), ('Designed', 2), ('Director', 1), ('Duke', 7), (\"Duke's\", 1), ('Duke’s', 3), ('Engineering', 2), ('Engineering’s', 1), ('Fall', 1), ('For', 1), ('Foundations', 1), ('Graduate', 2), ('Illustration', 1), ('In-depth', 1), ('Innovation', 3), ('Jon', 2), ('Launches', 1), ('Master', 1), ('May', 1), ('Pratt', 1), ('Product', 3), ('Program', 1), ('Reifschneider', 1), ('Reifschneider,', 2), ('Reifschneider.', 1), ('Remarkable', 1), ('School', 1), ('The', 2), ('Through', 1), ('To', 2), ('University’s', 1), ('While', 1), ('With', 1), ('a', 8), ('able', 2), ('accepting', 1), ('acquire', 1), ('across', 1), ('addition', 1), ('address', 1), ('address,”', 1), ('advanced', 1), ('advances', 1), ('aims', 1), ('allows', 1), ('an', 2), ('analytics.', 1), ('and', 23), ('and,', 1), ('apart', 2), ('application', 4), ('applications', 2), ('applications--which', 1), ('applied', 1), ('apply', 3), ('approach', 2), ('aptitudes.', 1), ('are', 4), ('around', 1), ('artificial', 1), ('aspects', 2), ('availability', 1), ('available', 1), ('basic', 1), ('be', 5), ('between', 1), ('beyond', 1), ('beyond.', 1), ('binary', 1), ('boom', 1), ('bootcamp', 1), ('brain', 1), ('build', 3), ('building', 1), ('business', 2), ('business,', 1), ('but,', 1), ('by', 1), ('can', 5), ('capacities.', 1), ('care', 1), ('certificate', 5), ('certificate,', 1), ('certificates,”', 1), ('certificates.”', 1), ('challenge,', 1), ('challenges', 2), ('class', 1), ('classes', 1), ('close', 1), ('code', 1), ('combined', 2), ('commitment', 1), ('competitive,', 1), ('complete', 1), ('completed', 2), ('completion', 1), ('composed', 1), ('computational', 1), ('connections', 1), ('continue', 1), ('core', 2), ('courses', 1), ('cover', 1), ('creating', 1), ('credits', 1), ('critical', 1), ('current', 1), ('currently', 1), ('data', 1), ('data,', 1), ('day-to-day', 1), ('degree', 1), ('demand', 1), ('demand,', 1), ('depth,', 2), ('designed', 2), ('details,', 1), ('development', 2), ('director.', 1), ('driven', 1), ('energy', 1), ('engagement', 1), ('engineers', 2), ('entrance', 2), ('environment', 1), ('equipping', 1), ('ethical', 1), ('every', 1), ('exam', 1), ('exam.', 1), ('expand', 1), ('expects', 1), ('expertise', 1), ('experts', 1), ('faculty', 3), ('fee', 2), ('field.', 1), ('fields', 1), ('field—not', 1), ('find', 1), ('first', 1), ('focus', 1), ('for', 10), ('foundational', 1), ('four', 1), ('from', 5), ('fuel', 1), ('full', 1), ('future', 1), ('gain', 2), ('go', 1), ('graduate', 1), ('graduates’', 1), ('growth', 1), ('have', 2), ('he', 2), ('health', 1), ('high', 1), ('high-potential', 1), ('high-quality', 2), ('how', 1), ('ideal', 1), ('imbalance', 1), ('immediately', 1), ('immense', 1), ('importantly,', 1), ('in', 18), ('industry', 2), ('industry,', 1), ('industry.', 1), ('innovation', 2), ('input', 1), ('insufficient', 1), ('intelligence', 2), ('interaction', 2), ('interdisciplinary', 1), ('into', 2), ('is', 6), ('it', 1), ('key', 1), ('knowledge,', 1), ('launches', 1), ('launching', 1), ('leaders', 2), ('learning', 4), ('legal', 1), ('level', 2), ('leverage', 1), ('machine', 3), ('machine-learning', 1), ('major', 1), ('manufacturing—and', 1), ('master’s', 1), ('meet', 1), ('meng.duke.edu', 1), ('modeling', 1), ('months', 1), ('months—and', 1), ('more', 1), ('move', 1), ('networks.', 1), ('new', 4), ('no', 2), ('now', 1), ('of', 19), ('offer', 1), ('on', 4), ('online', 4), ('only', 1), ('opportunities', 2), ('or', 3), ('organization', 2), ('organizations', 2), ('other', 3), ('participants', 3), ('perspectives', 1), ('positioned', 1), ('potential', 1), ('power', 1), ('preparatory', 1), ('prepare', 1), ('principles', 1), ('process', 1), ('process.', 1), ('product', 3), ('products', 3), ('professional', 1), ('professionals', 2), ('professionals,', 2), ('program', 4), (\"program's\", 1), ('program,', 2), ('program’s', 1), ('provide', 1), ('racing', 1), ('raw', 1), ('real-world', 1), ('relations,', 1), ('remain', 1), ('require', 1), ('requires', 2), ('requiring', 1), ('research', 1), ('roles', 1), ('said', 3), ('said.', 1), ('school', 1), ('scientists', 2), ('series', 1), ('services', 1), ('services.', 1), ('set', 2), ('skilled', 1), ('skills', 4), ('solutions,', 1), ('sophisticated', 1), ('start', 1), ('strong', 3), ('structured', 1), ('students', 4), ('studies', 1), ('summer', 1), ('supply.', 1), ('talent', 1), ('teaching,', 1), ('technical', 2), ('techniques', 1), ('technologies', 1), ('that', 4), ('the', 19), ('their', 8), ('theory', 1), ('there', 1), ('these', 2), ('they', 1), ('this', 1), ('through', 1), ('to', 18), ('tools', 1), ('tools,', 1), ('towards', 1), ('understanding', 3), ('unique', 1), ('uniquely', 1), ('utilizing', 1), ('valuable', 1), ('value', 2), ('virtual', 3), ('visit', 1), ('want', 2), ('what', 1), ('which', 1), ('who', 4), ('will', 5), ('wish', 1), ('with', 7), ('within', 1), ('without', 1), ('work.”', 1), ('working', 2), ('world-class', 1), ('“Courses', 1), ('“Employees', 1), ('“The', 2), ('\\ufeff', 1)]\n"
     ]
    }
   ],
   "source": [
    "print(sorted(counts.items())) # Print whole dictionary sorted by keys"
   ]
  },
  {
   "cell_type": "code",
   "execution_count": 53,
   "metadata": {},
   "outputs": [
    {
     "name": "stdout",
     "output_type": "stream",
     "text": [
      "[(23, 'and'), (19, 'the'), (19, 'of'), (18, 'to'), (18, 'in'), (10, 'for'), (10, 'AI'), (8, 'their'), (8, 'a'), (7, 'with'), (7, 'Duke'), (6, 'is'), (5, 'will'), (5, 'from'), (5, 'certificate'), (5, 'can'), (5, 'be'), (5, 'AIPI'), (4, 'who'), (4, 'that'), (4, 'students'), (4, 'skills'), (4, 'program'), (4, 'online'), (4, 'on'), (4, 'new'), (4, 'learning'), (4, 'are'), (4, 'application'), (4, 'Certificate'), (3, 'virtual'), (3, 'understanding'), (3, 'strong'), (3, 'said'), (3, 'products'), (3, 'product'), (3, 'participants'), (3, 'other'), (3, 'or'), (3, 'machine'), (3, 'faculty'), (3, 'build'), (3, 'apply'), (3, 'Product'), (3, 'Innovation'), (3, 'Duke’s'), (3, '2020'), (2, '“The'), (2, 'working'), (2, 'want'), (2, 'value'), (2, 'these'), (2, 'technical'), (2, 'set'), (2, 'scientists'), (2, 'requires'), (2, 'program,'), (2, 'professionals,'), (2, 'professionals'), (2, 'organizations'), (2, 'organization'), (2, 'opportunities'), (2, 'no'), (2, 'level'), (2, 'leaders'), (2, 'into'), (2, 'interaction'), (2, 'intelligence'), (2, 'innovation'), (2, 'industry'), (2, 'high-quality'), (2, 'he'), (2, 'have'), (2, 'gain'), (2, 'fee'), (2, 'entrance'), (2, 'engineers'), (2, 'development'), (2, 'designed'), (2, 'depth,'), (2, 'core'), (2, 'completed'), (2, 'combined'), (2, 'challenges'), (2, 'business'), (2, 'aspects'), (2, 'approach'), (2, 'applications'), (2, 'apart'), (2, 'an'), (2, 'able'), (2, 'To'), (2, 'The'), (2, 'Reifschneider,'), (2, 'Jon'), (2, 'Graduate'), (2, 'Engineering'), (2, 'Designed'), (2, 'August'), (2, '15'), (1, '\\ufeff'), (1, '“Employees'), (1, '“Courses'), (1, 'world-class'), (1, 'work.”'), (1, 'without'), (1, 'within'), (1, 'wish'), (1, 'which'), (1, 'what'), (1, 'visit'), (1, 'valuable'), (1, 'utilizing'), (1, 'uniquely'), (1, 'unique'), (1, 'towards'), (1, 'tools,'), (1, 'tools'), (1, 'through'), (1, 'this'), (1, 'they'), (1, 'there'), (1, 'theory'), (1, 'technologies'), (1, 'techniques'), (1, 'teaching,'), (1, 'talent'), (1, 'supply.'), (1, 'summer'), (1, 'studies'), (1, 'structured'), (1, 'start'), (1, 'sophisticated'), (1, 'solutions,'), (1, 'skilled'), (1, 'services.'), (1, 'services'), (1, 'series'), (1, 'school'), (1, 'said.'), (1, 'roles'), (1, 'research'), (1, 'requiring'), (1, 'require'), (1, 'remain'), (1, 'relations,'), (1, 'real-world'), (1, 'raw'), (1, 'racing'), (1, 'provide'), (1, 'program’s'), (1, \"program's\"), (1, 'professional'), (1, 'process.'), (1, 'process'), (1, 'principles'), (1, 'prepare'), (1, 'preparatory'), (1, 'power'), (1, 'potential'), (1, 'positioned'), (1, 'perspectives'), (1, 'only'), (1, 'offer'), (1, 'now'), (1, 'networks.'), (1, 'move'), (1, 'more'), (1, 'months—and'), (1, 'months'), (1, 'modeling'), (1, 'meng.duke.edu'), (1, 'meet'), (1, 'master’s'), (1, 'manufacturing—and'), (1, 'major'), (1, 'machine-learning'), (1, 'leverage'), (1, 'legal'), (1, 'launching'), (1, 'launches'), (1, 'knowledge,'), (1, 'key'), (1, 'it'), (1, 'interdisciplinary'), (1, 'insufficient'), (1, 'input'), (1, 'industry.'), (1, 'industry,'), (1, 'importantly,'), (1, 'immense'), (1, 'immediately'), (1, 'imbalance'), (1, 'ideal'), (1, 'how'), (1, 'high-potential'), (1, 'high'), (1, 'health'), (1, 'growth'), (1, 'graduates’'), (1, 'graduate'), (1, 'go'), (1, 'future'), (1, 'full'), (1, 'fuel'), (1, 'four'), (1, 'foundational'), (1, 'focus'), (1, 'first'), (1, 'find'), (1, 'field—not'), (1, 'fields'), (1, 'field.'), (1, 'experts'), (1, 'expertise'), (1, 'expects'), (1, 'expand'), (1, 'exam.'), (1, 'exam'), (1, 'every'), (1, 'ethical'), (1, 'equipping'), (1, 'environment'), (1, 'engagement'), (1, 'energy'), (1, 'driven'), (1, 'director.'), (1, 'details,'), (1, 'demand,'), (1, 'demand'), (1, 'degree'), (1, 'day-to-day'), (1, 'data,'), (1, 'data'), (1, 'currently'), (1, 'current'), (1, 'critical'), (1, 'credits'), (1, 'creating'), (1, 'cover'), (1, 'courses'), (1, 'continue'), (1, 'connections'), (1, 'computational'), (1, 'composed'), (1, 'completion'), (1, 'complete'), (1, 'competitive,'), (1, 'commitment'), (1, 'code'), (1, 'close'), (1, 'classes'), (1, 'class'), (1, 'challenge,'), (1, 'certificates.”'), (1, 'certificates,”'), (1, 'certificate,'), (1, 'care'), (1, 'capacities.'), (1, 'by'), (1, 'but,'), (1, 'business,'), (1, 'building'), (1, 'brain'), (1, 'bootcamp'), (1, 'boom'), (1, 'binary'), (1, 'beyond.'), (1, 'beyond'), (1, 'between'), (1, 'basic'), (1, 'available'), (1, 'availability'), (1, 'artificial'), (1, 'around'), (1, 'aptitudes.'), (1, 'applied'), (1, 'applications--which'), (1, 'and,'), (1, 'analytics.'), (1, 'allows'), (1, 'aims'), (1, 'advances'), (1, 'advanced'), (1, 'address,”'), (1, 'address'), (1, 'addition'), (1, 'across'), (1, 'acquire'), (1, 'accepting'), (1, 'With'), (1, 'While'), (1, 'University’s'), (1, 'Through'), (1, 'School'), (1, 'Remarkable'), (1, 'Reifschneider.'), (1, 'Reifschneider'), (1, 'Program'), (1, 'Pratt'), (1, 'May'), (1, 'Master'), (1, 'Launches'), (1, 'In-depth'), (1, 'Illustration'), (1, 'Foundations'), (1, 'For'), (1, 'Fall'), (1, 'Engineering’s'), (1, \"Duke's\"), (1, 'Director'), (1, 'Courses'), (1, 'Artificial'), (1, 'Although'), (1, 'AIPI’s'), (1, 'AI/machine'), (1, 'AI/ML'), (1, 'AI.'), (1, 'AI-enabled'), (1, 'AI,'), (1, '29,'), (1, '2021.'), (1, '2020.'), (1, '(AIPI)'), (1, '(AI)')]\n"
     ]
    }
   ],
   "source": [
    "# Can we print dictionary sorted by vales instead?\n",
    "new = dict()\n",
    "lst = list()\n",
    "for i,j in counts.items():\n",
    "    newtup = (j,i)\n",
    "    lst.append(newtup)\n",
    "mylist = sorted(lst, reverse=True)\n",
    "print(mylist)"
   ]
  },
  {
   "cell_type": "code",
   "execution_count": 54,
   "metadata": {},
   "outputs": [
    {
     "data": {
      "text/plain": [
       "['The program is now accepting applications for August 2020. For details',\n",
       " ' visit meng.duke.edu\\n']"
      ]
     },
     "execution_count": 54,
     "metadata": {},
     "output_type": "execute_result"
    }
   ],
   "source": [
    "line.split(',') # Let us split the line where we find commas\n",
    "# Why does it show last line only????"
   ]
  },
  {
   "cell_type": "code",
   "execution_count": 55,
   "metadata": {},
   "outputs": [
    {
     "ename": "FileNotFoundError",
     "evalue": "[Errno 2] No such file or directory: 'eeee.txt'",
     "output_type": "error",
     "traceback": [
      "\u001b[0;31m---------------------------------------------------------------------------\u001b[0m",
      "\u001b[0;31mFileNotFoundError\u001b[0m                         Traceback (most recent call last)",
      "\u001b[0;32m<ipython-input-55-e5577a4b3dd3>\u001b[0m in \u001b[0;36m<module>\u001b[0;34m\u001b[0m\n\u001b[1;32m      1\u001b[0m \u001b[0;31m# What happens if you try to open a file that does not exist?\u001b[0m\u001b[0;34m\u001b[0m\u001b[0;34m\u001b[0m\u001b[0;34m\u001b[0m\u001b[0m\n\u001b[0;32m----> 2\u001b[0;31m \u001b[0mfhand\u001b[0m \u001b[0;34m=\u001b[0m \u001b[0mopen\u001b[0m\u001b[0;34m(\u001b[0m\u001b[0;34m'eeee.txt'\u001b[0m\u001b[0;34m,\u001b[0m\u001b[0;34m'rt'\u001b[0m\u001b[0;34m)\u001b[0m\u001b[0;34m\u001b[0m\u001b[0;34m\u001b[0m\u001b[0m\n\u001b[0m\u001b[1;32m      3\u001b[0m \u001b[0mprint\u001b[0m\u001b[0;34m(\u001b[0m\u001b[0mfhand\u001b[0m\u001b[0;34m)\u001b[0m\u001b[0;34m\u001b[0m\u001b[0;34m\u001b[0m\u001b[0m\n",
      "\u001b[0;31mFileNotFoundError\u001b[0m: [Errno 2] No such file or directory: 'eeee.txt'"
     ]
    }
   ],
   "source": [
    "# What happens if you try to open a file that does not exist?\n",
    "fhand = open('eeee.txt','rt')\n",
    "print(fhand)"
   ]
  },
  {
   "cell_type": "code",
   "execution_count": 56,
   "metadata": {},
   "outputs": [
    {
     "name": "stdout",
     "output_type": "stream",
     "text": [
      "eeee.txt does not exist!\n"
     ]
    }
   ],
   "source": [
    "# Let us protect the input commands to avoid a traceback\n",
    "# Here is a more elegant way to handle it\n",
    "try:\n",
    "    fhand = open('eeee.txt','rt')\n",
    "    print(fhand)\n",
    "except:\n",
    "    print('eeee.txt does not exist!')"
   ]
  },
  {
   "cell_type": "code",
   "execution_count": 58,
   "metadata": {},
   "outputs": [
    {
     "name": "stdout",
     "output_type": "stream",
     "text": [
      "Hello\n",
      "World!\n"
     ]
    }
   ],
   "source": [
    "# New Line character \"\\n\" marks the end of each line\n",
    "stuff = 'Hello\\nWorld!'\n",
    "print(stuff)"
   ]
  },
  {
   "cell_type": "code",
   "execution_count": 40,
   "metadata": {},
   "outputs": [
    {
     "name": "stdout",
     "output_type": "stream",
     "text": [
      "1 ﻿\n",
      "\n",
      "2 Duke Launches Graduate Certificate in AI for Product Innovation\n",
      "\n",
      "3 \n",
      "\n",
      "4 May 29, 2020\n",
      "\n",
      "5 \n",
      "\n",
      "6 Designed for working professionals, the new program's online classes start August 2020\n",
      "\n",
      "7 Illustration of a brain and binary code\n",
      "\n",
      "8 \n",
      "\n",
      "9 Artificial intelligence (AI) and machine learning are creating immense opportunities for innovation in products and services across every industry, from health care to energy to manufacturing—and beyond.\n",
      "\n",
      "10 \n",
      "\n",
      "11 Remarkable growth in the availability of raw data, combined with major advances in computational power and new modeling techniques and tools, have driven a boom in the AI/ML field. To remain competitive, organizations are racing to leverage the value of their data through the application of advanced analytics.\n",
      "\n",
      "12 \n",
      "\n",
      "13  “The level of depth, faculty interaction and high-quality virtual approach set Duke's apart from other AI certificates.” Jon Reifschneider, Certificate Program Director\n",
      "\n",
      "14 \n",
      "\n",
      "15 To meet this challenge, Duke University’s Pratt School of Engineering is launching in summer 2020 an online Graduate Certificate in AI Foundations for Product Innovation (AIPI) that will fuel innovation by equipping participants with AI/machine learning skills and a strong understanding of how the technologies can be applied to build new products and services.\n",
      "\n",
      "16 \n",
      "\n",
      "17 Designed for working professionals, the online program can be completed in 15 months and requires no application fee or entrance exam.\n",
      "\n",
      "18 \n",
      "\n",
      "19 With Duke Engineering’s world-class machine-learning research and teaching, combined with Duke’s strong interdisciplinary environment and close industry relations, the school is uniquely positioned to prepare high-potential future leaders from technical fields in the application of AI, said Jon Reifschneider, the AIPI certificate program’s director. \n",
      "\n",
      "20 \n",
      "\n",
      "21  “Employees who have a sophisticated understanding of AI and machine learning applications can provide unique perspectives on challenges in their field—not only on potential solutions, but, more importantly, on what challenges organizations are able to address,” he said.\n",
      "\n",
      "22 \n",
      "\n",
      "23 Although engineers and scientists skilled in machine learning principles are in high demand, business leaders find there is currently insufficient talent with these critical aptitudes. Through the AIPI certificate, Duke aims to address the imbalance between demand for professionals with strong AI skills and the available supply. \n",
      "\n",
      "24 \n",
      "\n",
      "25 Duke’s AIPI certificate is designed to build graduates’ artificial intelligence expertise and value within their organization and industry. Certificate students will complete a preparatory online bootcamp and a series of four core courses designed with input from industry experts and structured around the product development process. \n",
      "\n",
      "26 \n",
      "\n",
      "27 While the program allows participants to build foundational AI skills without requiring the commitment of a master’s program, students who wish to continue their studies into a full Master of Engineering in AI for Product Innovation will be able to apply their certificate credits towards completion of the Duke degree program, which launches in Fall 2021.\n",
      "\n",
      "28 \n",
      "\n",
      "29 “The level of depth, faculty interaction and high-quality virtual approach of Duke’s AIPI certificate program set it apart from other AI certificates,” said Reifschneider. “Courses go beyond basic theory to focus on real-world AI business and product applications--which is ideal for professionals who want to acquire tools that they can immediately apply in their day-to-day work.” \n",
      "\n",
      "30 \n",
      "\n",
      "31  The graduate certificate can be completed in 15 months—and requires no application fee or entrance exam\n",
      "\n",
      "32 \n",
      "\n",
      "33 Courses cover key aspects of the product development process for building AI-enabled products and, in addition to core technical knowledge, students will gain an understanding of the business, legal and ethical aspects of utilizing AI.  In-depth faculty engagement and virtual connections with other Duke students will offer AIPI participants valuable opportunities to expand their professional networks.  Reifschneider said that he expects Duke AIPI’s first class to be composed of engineers and scientists who want to gain AI skills to apply in their current organization or move into new roles that require these capacities. \n",
      "\n",
      "34 \n",
      "\n",
      "35 The program is now accepting applications for August 2020. For details, visit meng.duke.edu\n",
      "\n"
     ]
    }
   ],
   "source": [
    "fid = open('aipi.txt')\n",
    "cnt = 1\n",
    "for line in fid:\n",
    "    print(cnt,line)\n",
    "    cnt = cnt + 1"
   ]
  },
  {
   "cell_type": "code",
   "execution_count": 59,
   "metadata": {},
   "outputs": [
    {
     "name": "stdout",
     "output_type": "stream",
     "text": [
      "Line Count: 35\n"
     ]
    }
   ],
   "source": [
    "fhand = open('aipi.txt')\n",
    "count = 0\n",
    "for line in fhand:\n",
    "    #print(line)\n",
    "    count = count + 1\n",
    "print('Line Count:', count) # Lets count number of lines in this file"
   ]
  },
  {
   "cell_type": "code",
   "execution_count": 60,
   "metadata": {},
   "outputs": [
    {
     "name": "stdout",
     "output_type": "stream",
     "text": [
      "4267\n"
     ]
    }
   ],
   "source": [
    "# Let's count how many characters in the whole file using read() method\n",
    "\n",
    "# Python file method read() reads characters from a file.\n",
    "\n",
    "fhand = open('aipi.txt')\n",
    "alllines=fhand.read() # Read all characters in file (including blanks)\n",
    "firstcount = len(alllines)\n",
    "print(firstcount) # Total characters in the file"
   ]
  },
  {
   "cell_type": "code",
   "execution_count": 62,
   "metadata": {},
   "outputs": [
    {
     "name": "stdout",
     "output_type": "stream",
     "text": [
      "Total char :  3628\n",
      "Previous count:  4267\n",
      "Blanks counted originally:  639\n"
     ]
    }
   ],
   "source": [
    "# How to avoid counting whitespaces?\n",
    "fhand = open('aipi.txt')\n",
    "count = 0\n",
    "wcount=0\n",
    "for line in fhand: # Iterate through each line in file\n",
    "    split_words = line.split() # Split line into words as delimited by blank spaces\n",
    "    for word in split_words: # Iterate through each word in each line\n",
    "        for char in word: # Iterate through each character in each word\n",
    "            count = count +1\n",
    "print(\"Total char : \",count)\n",
    "print(\"Previous count: \", firstcount)\n",
    "print(\"Blanks counted originally: \",firstcount-count)"
   ]
  },
  {
   "cell_type": "code",
   "execution_count": 63,
   "metadata": {},
   "outputs": [
    {
     "name": "stdout",
     "output_type": "stream",
     "text": [
      "Total characters in line:  1  is:  1\n",
      "Total characters in line:  2  is:  55\n",
      "Total characters in line:  3  is:  0\n",
      "Total characters in line:  4  is:  10\n",
      "Total characters in line:  5  is:  0\n",
      "Total characters in line:  6  is:  75\n",
      "Total characters in line:  7  is:  33\n",
      "Total characters in line:  8  is:  0\n",
      "Total characters in line:  9  is:  177\n",
      "Total characters in line:  10  is:  0\n",
      "Total characters in line:  11  is:  264\n",
      "Total characters in line:  12  is:  0\n",
      "Total characters in line:  13  is:  147\n",
      "Total characters in line:  14  is:  0\n",
      "Total characters in line:  15  is:  309\n",
      "Total characters in line:  16  is:  0\n",
      "Total characters in line:  17  is:  114\n",
      "Total characters in line:  18  is:  0\n",
      "Total characters in line:  19  is:  308\n",
      "Total characters in line:  20  is:  0\n",
      "Total characters in line:  21  is:  233\n",
      "Total characters in line:  22  is:  0\n",
      "Total characters in line:  23  is:  284\n",
      "Total characters in line:  24  is:  0\n",
      "Total characters in line:  25  is:  290\n",
      "Total characters in line:  26  is:  0\n",
      "Total characters in line:  27  is:  301\n",
      "Total characters in line:  28  is:  0\n",
      "Total characters in line:  29  is:  327\n",
      "Total characters in line:  30  is:  0\n",
      "Total characters in line:  31  is:  88\n",
      "Total characters in line:  32  is:  0\n",
      "Total characters in line:  33  is:  533\n",
      "Total characters in line:  34  is:  0\n",
      "Total characters in line:  35  is:  79\n"
     ]
    }
   ],
   "source": [
    "# How to count characters in each line?\n",
    "fhand = open('aipi.txt')\n",
    "count = 0\n",
    "lcount=1\n",
    "for line in fhand: # Iterate through each line in file\n",
    "    split_words = line.split()\n",
    "    for word in split_words:    # Iterate through each word\n",
    "        for char in word:       # Iterate through each character\n",
    "            count = count +1\n",
    "    print(\"Total characters in line: \", lcount,\" is: \",count)\n",
    "    count = 0 # Reset character count\n",
    "    lcount = lcount + 1"
   ]
  },
  {
   "cell_type": "code",
   "execution_count": 64,
   "metadata": {},
   "outputs": [
    {
     "name": "stdout",
     "output_type": "stream",
     "text": [
      "Duke Launches Graduate Certificate in AI for Product Innovation\n",
      "\n",
      "Duke’s AIPI certificate is designed to build graduates’ artificial intelligence expertise and value within their organization and industry. Certificate students will complete a preparatory online bootcamp and a series of four core courses designed with input from industry experts and structured around the product development process. \n",
      "\n"
     ]
    }
   ],
   "source": [
    "fhand = open('aipi.txt')\n",
    "for line in fhand: # For each line in file\n",
    "    if line.startswith('Duke') : # Check if start with 'Duke' string\n",
    "        print(line) # Print those lines"
   ]
  },
  {
   "cell_type": "code",
   "execution_count": 65,
   "metadata": {},
   "outputs": [
    {
     "data": {
      "text/plain": [
       "'The program is now accepting applications for August 2020. For details, visit meng.duke.edu\\n'"
      ]
     },
     "execution_count": 65,
     "metadata": {},
     "output_type": "execute_result"
    }
   ],
   "source": [
    "line # Print last line"
   ]
  },
  {
   "cell_type": "code",
   "execution_count": null,
   "metadata": {},
   "outputs": [],
   "source": []
  }
 ],
 "metadata": {
  "kernelspec": {
   "display_name": "Python 3",
   "language": "python",
   "name": "python3"
  },
  "language_info": {
   "codemirror_mode": {
    "name": "ipython",
    "version": 3
   },
   "file_extension": ".py",
   "mimetype": "text/x-python",
   "name": "python",
   "nbconvert_exporter": "python",
   "pygments_lexer": "ipython3",
   "version": "3.7.4"
  }
 },
 "nbformat": 4,
 "nbformat_minor": 2
}
