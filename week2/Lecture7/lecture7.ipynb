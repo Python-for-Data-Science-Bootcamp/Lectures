{
 "cells": [
  {
   "cell_type": "markdown",
   "metadata": {},
   "source": [
    "# Python for Data Science Bootcamp\n",
    "## Lecture 7\n",
    "\n",
    "Here are the topics for this lecture:\n",
    "\n",
    " * Lambda function\n",
    " * Format method\n",
    "\n",
    "Let's get started...\n"
   ]
  },
  {
   "cell_type": "markdown",
   "metadata": {},
   "source": [
    "**Lambda function:** Used to define one-line mini-functions on the fly (more compact), return the value of a single expression. Some characteristics include:\n",
    "\n",
    "* There are no parentheses around the argument list\n",
    "* They can be used along with built-in functions like filter(), sorted()\n",
    "* Return keyword is missing"
   ]
  },
  {
   "cell_type": "code",
   "execution_count": 70,
   "metadata": {},
   "outputs": [
    {
     "data": {
      "text/plain": [
       "9"
      ]
     },
     "execution_count": 70,
     "metadata": {},
     "output_type": "execute_result"
    }
   ],
   "source": [
    "def f(x): # Tradional way of defining function\n",
    "    return x**2\n",
    "f(3)"
   ]
  },
  {
   "cell_type": "code",
   "execution_count": 71,
   "metadata": {},
   "outputs": [
    {
     "data": {
      "text/plain": [
       "9"
      ]
     },
     "execution_count": 71,
     "metadata": {},
     "output_type": "execute_result"
    }
   ],
   "source": [
    "g = lambda x: x**2 # Now using Lambda notation\n",
    "g(3)"
   ]
  },
  {
   "cell_type": "code",
   "execution_count": 72,
   "metadata": {},
   "outputs": [
    {
     "data": {
      "text/plain": [
       "9"
      ]
     },
     "execution_count": 72,
     "metadata": {},
     "output_type": "execute_result"
    }
   ],
   "source": [
    "(lambda x: x**2)(3) # Don't even have to name function"
   ]
  },
  {
   "cell_type": "code",
   "execution_count": 73,
   "metadata": {},
   "outputs": [],
   "source": [
    "def myfunction(x): # Function returns values of argument that are divisible by 2 (i.e. even)\n",
    "    return x%2==0\n",
    "\n",
    "my_list = [1, 5, 4, 6, 8, 11, 3, 12]"
   ]
  },
  {
   "cell_type": "code",
   "execution_count": 74,
   "metadata": {},
   "outputs": [
    {
     "name": "stdout",
     "output_type": "stream",
     "text": [
      "[4, 6, 8, 12]\n"
     ]
    }
   ],
   "source": [
    "# Filter function: It filters the given sequence with the help of a \n",
    "# function that tests each element in the sequence to be true or not.\n",
    "\n",
    "# Create a new list by applying filter function\n",
    "new_list = list(filter(myfunction , my_list))\n",
    "print(new_list)"
   ]
  },
  {
   "cell_type": "code",
   "execution_count": 75,
   "metadata": {},
   "outputs": [
    {
     "name": "stdout",
     "output_type": "stream",
     "text": [
      "[4, 6, 8, 12]\n"
     ]
    }
   ],
   "source": [
    "# Using lambda now\n",
    "new_list = list(filter(lambda x: (x%2==0) , my_list))\n",
    "print(new_list)"
   ]
  },
  {
   "cell_type": "code",
   "execution_count": 76,
   "metadata": {},
   "outputs": [],
   "source": [
    "filter?"
   ]
  },
  {
   "cell_type": "code",
   "execution_count": 77,
   "metadata": {},
   "outputs": [],
   "source": [
    "fhand = open('aipi.txt') # Open file\n",
    "counts = {} # Create empty dictionary\n",
    "for line in fhand: # For each line\n",
    "    words = line.split() # Break into words\n",
    "    for word in words: # Create a histogram of words in file\n",
    "        counts[word] = counts.get(word, 0 ) + 1"
   ]
  },
  {
   "cell_type": "code",
   "execution_count": 78,
   "metadata": {},
   "outputs": [
    {
     "data": {
      "text/plain": [
       "[('\\ufeff', 1),\n",
       " ('“The', 2),\n",
       " ('“Employees', 1),\n",
       " ('“Courses', 1),\n",
       " ('world-class', 1)]"
      ]
     },
     "execution_count": 78,
     "metadata": {},
     "output_type": "execute_result"
    }
   ],
   "source": [
    "# Remember our problem from yesterday???\n",
    "\n",
    "# I know how to sort dictionary by key.....\n",
    "tlst = sorted(counts.items(), reverse=True)\n",
    "tlst[:5] # This returns first 5 items sorted by key"
   ]
  },
  {
   "cell_type": "code",
   "execution_count": 48,
   "metadata": {},
   "outputs": [],
   "source": [
    "sorted?"
   ]
  },
  {
   "cell_type": "code",
   "execution_count": 79,
   "metadata": {},
   "outputs": [
    {
     "data": {
      "text/plain": [
       "[('and', 23), ('the', 19), ('of', 19), ('in', 18), ('to', 18)]"
      ]
     },
     "execution_count": 79,
     "metadata": {},
     "output_type": "execute_result"
    }
   ],
   "source": [
    "# Turns out sorted can be provided an optional key function \n",
    "# to customize sort order\n",
    "\n",
    "# Let us sort a dictionary using a single line function\n",
    "\n",
    "# I can define a traditional function\n",
    "def myfunction(x):\n",
    "    # Use second element in tuple\n",
    "    return (x[1])\n",
    "\n",
    "# Then, let's re create our new famous histogram\n",
    "fhand = open('aipi.txt')\n",
    "counts = {}\n",
    "for line in fhand:\n",
    "    words = line.split()\n",
    "    for word in words:\n",
    "        counts[word] = counts.get(word, 0 ) + 1\n",
    "# You can pass a function to help determine which element to sort by\n",
    "lst=sorted(counts.items(), key=myfunction, reverse=True)\n",
    "lst[:5]"
   ]
  },
  {
   "cell_type": "code",
   "execution_count": 80,
   "metadata": {},
   "outputs": [
    {
     "data": {
      "text/plain": [
       "[('and', 23), ('the', 19), ('of', 19), ('in', 18), ('to', 18)]"
      ]
     },
     "execution_count": 80,
     "metadata": {},
     "output_type": "execute_result"
    }
   ],
   "source": [
    "#  Using lambda now\n",
    "\n",
    "# Then, let's re create our new famous histogram\n",
    "fhand = open('aipi.txt')\n",
    "counts = {}\n",
    "for line in fhand:\n",
    "    words = line.split()\n",
    "    for word in words:\n",
    "        counts[word] = counts.get(word, 0 ) + 1\n",
    "# You can pass a function to telling sorted which element to sort by\n",
    "# In this case, let us use the second element in tuple (i.e. counts)\n",
    "lst=sorted(counts.items(), key=lambda x: x[1], reverse=True)\n",
    "lst[:5]"
   ]
  },
  {
   "cell_type": "code",
   "execution_count": 81,
   "metadata": {},
   "outputs": [
    {
     "name": "stdout",
     "output_type": "stream",
     "text": [
      "[0, 2, 4, 6, 8, 10, 12, 14, 16, 18, 20, 22, 24, 26, 28, 30, 32, 34, 36, 38, 40, 42, 44, 46, 48, 50, 52, 54, 56, 58, 60, 62, 64, 66, 68, 70, 72, 74, 76, 78, 80, 82, 84, 86, 88, 90, 92, 94, 96, 98]\n",
      "[0, 2, 4, 6, 8, 10, 12, 14, 16, 18, 20, 22, 24, 26, 28, 30, 32, 34, 36, 38, 40, 42, 44, 46, 48, 50, 52, 54, 56, 58, 60, 62, 64, 66, 68, 70, 72, 74, 76, 78, 80, 82, 84, 86, 88, 90, 92, 94, 96, 98]\n"
     ]
    }
   ],
   "source": [
    "# Python provides generator functions as a convenient shortcut \n",
    "# to building iterators\n",
    "\n",
    "doubles = [2 * n for n in range(50)]\n",
    "print(doubles)\n",
    "\n",
    "# same as the list above\n",
    "\n",
    "doubles = list(2 * n for n in range(50))\n",
    "print(doubles)"
   ]
  },
  {
   "cell_type": "code",
   "execution_count": 82,
   "metadata": {},
   "outputs": [
    {
     "data": {
      "text/plain": [
       "[(23, 'and'), (19, 'the'), (19, 'of'), (18, 'to'), (18, 'in')]"
      ]
     },
     "execution_count": 82,
     "metadata": {},
     "output_type": "execute_result"
    }
   ],
   "source": [
    "# So, here is yet another possible solution to sorting our dictionary by values\n",
    "# using a list generator function\n",
    "\n",
    "# Let's recreate our word count histogram\n",
    "fhand = open('aipi.txt')\n",
    "counts = {}\n",
    "for line in fhand:\n",
    "    words = line.split()\n",
    "    for word in words:\n",
    "        counts[word] = counts.get(word, 0 ) + 1\n",
    "\n",
    "# Using a list generator function\n",
    "\n",
    "# Print items in directory sorted by values (not keys!)\n",
    "\n",
    "tlst = sorted( [ (v,k) for k,v in counts.items() ], reverse=True ) \n",
    "tlst[:5]"
   ]
  },
  {
   "cell_type": "markdown",
   "metadata": {},
   "source": [
    "## Format method and print function:\n",
    "\n",
    "str.format() is one of the string formatting methods in Python3, which allows multiple substitutions and value formatting. This method lets us concatenate elements within a string through positional formatting.\n",
    "\n",
    "Formatters work by putting in one or more replacement fields and placeholders defined by a pair of curly braces { } into a string and calling the str.format(). The value we wish to put into the placeholders and concatenate with the string passed as parameters into the format function."
   ]
  },
  {
   "cell_type": "code",
   "execution_count": 83,
   "metadata": {},
   "outputs": [],
   "source": [
    "name = 'Luis Morales'\n",
    "age= 54\n",
    "courseID='PDSB'"
   ]
  },
  {
   "cell_type": "code",
   "execution_count": 84,
   "metadata": {},
   "outputs": [
    {
     "name": "stdout",
     "output_type": "stream",
     "text": [
      "my name is Luis Morales, my age is 54, I am the instructor of course PDSB\n"
     ]
    }
   ],
   "source": [
    "# Defining string using .format() function\n",
    "mystr='my name is {}, my age is {}, I am the instructor of course {}'.format(name,age,courseID)\n",
    "print(mystr)"
   ]
  },
  {
   "cell_type": "markdown",
   "metadata": {},
   "source": [
    "**F-Strings:** This approach allows you to accomplish the same objective as format, but more compact.\n",
    "\n",
    "You invoke by using: f\"string\" or F\"string\""
   ]
  },
  {
   "cell_type": "code",
   "execution_count": 85,
   "metadata": {},
   "outputs": [
    {
     "name": "stdout",
     "output_type": "stream",
     "text": [
      "my name is Luis Morales, my age is 54, I am the instructor of course PDSB\n"
     ]
    }
   ],
   "source": [
    "mystr=f\"my name is {name}, my age is {age}, I am the instructor of course {courseID}\"\n",
    "print(mystr)"
   ]
  },
  {
   "cell_type": "code",
   "execution_count": 86,
   "metadata": {},
   "outputs": [
    {
     "name": "stdout",
     "output_type": "stream",
     "text": [
      "..........\n"
     ]
    }
   ],
   "source": [
    "# Allows you to print multiple characters\n",
    "print('.'*10)"
   ]
  },
  {
   "cell_type": "code",
   "execution_count": 19,
   "metadata": {},
   "outputs": [
    {
     "name": "stdout",
     "output_type": "stream",
     "text": [
      "Hello,\n",
      "World!\n"
     ]
    }
   ],
   "source": [
    "print('Hello,\\nWorld!') # New line character included"
   ]
  },
  {
   "cell_type": "code",
   "execution_count": 87,
   "metadata": {},
   "outputs": [
    {
     "name": "stdout",
     "output_type": "stream",
     "text": [
      "what's your name?\n"
     ]
    }
   ],
   "source": [
    "print('what\\'s your name?') # Add apostrophe \"\\\" says ignore next control character\n",
    "# Other examples: '\\r' - carriage return, '\\0' - null character, '\\t'- tab"
   ]
  },
  {
   "cell_type": "code",
   "execution_count": 88,
   "metadata": {},
   "outputs": [
    {
     "name": "stdout",
     "output_type": "stream",
     "text": [
      "what's your name?\n"
     ]
    }
   ],
   "source": [
    "print('what\\'s your name?')"
   ]
  },
  {
   "cell_type": "code",
   "execution_count": 89,
   "metadata": {},
   "outputs": [
    {
     "ename": "SyntaxError",
     "evalue": "(unicode error) 'unicodeescape' codec can't decode bytes in position 2-3: truncated \\uXXXX escape (<ipython-input-89-e9b6f8ebee0e>, line 1)",
     "output_type": "error",
     "traceback": [
      "\u001b[0;36m  File \u001b[0;32m\"<ipython-input-89-e9b6f8ebee0e>\"\u001b[0;36m, line \u001b[0;32m1\u001b[0m\n\u001b[0;31m    print('C:\\users\\lm338') # Add backslash\u001b[0m\n\u001b[0m         ^\u001b[0m\n\u001b[0;31mSyntaxError\u001b[0m\u001b[0;31m:\u001b[0m (unicode error) 'unicodeescape' codec can't decode bytes in position 2-3: truncated \\uXXXX escape\n"
     ]
    }
   ],
   "source": [
    "print('C:\\users\\lm338') # Add backslash"
   ]
  },
  {
   "cell_type": "code",
   "execution_count": 90,
   "metadata": {},
   "outputs": [
    {
     "name": "stdout",
     "output_type": "stream",
     "text": [
      "C:\\users\\lm338\n"
     ]
    }
   ],
   "source": [
    "print('C:\\\\users\\\\lm338') # Now I can use backslash in my string"
   ]
  },
  {
   "cell_type": "code",
   "execution_count": 91,
   "metadata": {},
   "outputs": [
    {
     "name": "stdout",
     "output_type": "stream",
     "text": [
      "what's your name?\n"
     ]
    }
   ],
   "source": [
    "print(\"\"\"what's your name?\"\"\") # Double apostrophe"
   ]
  },
  {
   "cell_type": "code",
   "execution_count": 13,
   "metadata": {},
   "outputs": [
    {
     "name": "stdout",
     "output_type": "stream",
     "text": [
      "[32, 25, 15, 12]\n"
     ]
    }
   ],
   "source": []
  },
  {
   "cell_type": "code",
   "execution_count": 8,
   "metadata": {},
   "outputs": [
    {
     "ename": "KeyError",
     "evalue": "'(lambda x'",
     "output_type": "error",
     "traceback": [
      "\u001b[0;31m---------------------------------------------------------------------------\u001b[0m",
      "\u001b[0;31mKeyError\u001b[0m                                  Traceback (most recent call last)",
      "\u001b[0;32m<ipython-input-8-312e5597fd4f>\u001b[0m in \u001b[0;36m<module>\u001b[0;34m\u001b[0m\n\u001b[1;32m      1\u001b[0m \u001b[0mdata\u001b[0m\u001b[0;34m=\u001b[0m\u001b[0;34m[\u001b[0m\u001b[0;34m\"New Mexico\"\u001b[0m\u001b[0;34m,\u001b[0m\u001b[0;34m\"Spain\"\u001b[0m\u001b[0;34m]\u001b[0m\u001b[0;34m\u001b[0m\u001b[0;34m\u001b[0m\u001b[0m\n\u001b[1;32m      2\u001b[0m \u001b[0mfood\u001b[0m\u001b[0;34m=\u001b[0m\u001b[0;34m\"tacos\"\u001b[0m\u001b[0;34m\u001b[0m\u001b[0;34m\u001b[0m\u001b[0m\n\u001b[0;32m----> 3\u001b[0;31m \u001b[0mmystr\u001b[0m\u001b[0;34m=\u001b[0m\u001b[0;34m\"I like living in {(lambda x: x[1][0])} and my favorite food is {food}\"\u001b[0m\u001b[0;34m.\u001b[0m\u001b[0mformat\u001b[0m\u001b[0;34m(\u001b[0m\u001b[0mdata\u001b[0m\u001b[0;34m,\u001b[0m\u001b[0mfood\u001b[0m\u001b[0;34m)\u001b[0m\u001b[0;34m\u001b[0m\u001b[0;34m\u001b[0m\u001b[0m\n\u001b[0m",
      "\u001b[0;31mKeyError\u001b[0m: '(lambda x'"
     ]
    }
   ],
   "source": [
    "data=[\"New Mexico\",\"Spain\"]\n",
    "food=\"tacos\"\n",
    "mystr=\"I like living in {(lambda x: x[1][0])} and my favorite food is {food}\".format(data,food)"
   ]
  },
  {
   "cell_type": "code",
   "execution_count": 92,
   "metadata": {},
   "outputs": [
    {
     "name": "stdout",
     "output_type": "stream",
     "text": [
      "I want to buy some shoes before I go back, but I need some sleep\n"
     ]
    }
   ],
   "source": [
    "buy=\"shoes\"\n",
    "need=\"sleep\"\n",
    "mystr=f\"I want to buy some {buy} before I go back, but I need some {need}\"\n",
    "print(mystr)"
   ]
  },
  {
   "cell_type": "code",
   "execution_count": null,
   "metadata": {},
   "outputs": [],
   "source": []
  }
 ],
 "metadata": {
  "kernelspec": {
   "display_name": "Python 3",
   "language": "python",
   "name": "python3"
  },
  "language_info": {
   "codemirror_mode": {
    "name": "ipython",
    "version": 3
   },
   "file_extension": ".py",
   "mimetype": "text/x-python",
   "name": "python",
   "nbconvert_exporter": "python",
   "pygments_lexer": "ipython3",
   "version": "3.7.4"
  }
 },
 "nbformat": 4,
 "nbformat_minor": 2
}
