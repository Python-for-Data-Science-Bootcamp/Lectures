{
 "cells": [
  {
   "cell_type": "markdown",
   "metadata": {},
   "source": [
    "## Python for Data Science Bootcamp\n",
    "## Lecture 8 - Part 2\n",
    "## Textbook reference: PY4E \n",
    "### Chapter 11\n",
    "### Lesson 12: Regular Expressions\n",
    "\n",
    "Here are the topics for this lecture:\n",
    "\n",
    " * Search function\n",
    " * Split function\n",
    " * Sub function\n",
    "\n",
    "Let's get started..."
   ]
  },
  {
   "cell_type": "markdown",
   "metadata": {},
   "source": [
    "**Search function:** Returns a Match object if there is a match anywhere in the string"
   ]
  },
  {
   "cell_type": "code",
   "execution_count": 20,
   "metadata": {},
   "outputs": [],
   "source": [
    "re.search?"
   ]
  },
  {
   "cell_type": "code",
   "execution_count": 7,
   "metadata": {},
   "outputs": [
    {
     "name": "stdout",
     "output_type": "stream",
     "text": [
      "Artificial intelligence (AI) and machine learning are creating immense opportunities for innovation in products and services across every industry, from health care to energy to manufacturing—and beyond.\n",
      "To meet this challenge, Duke University’s Pratt School of Engineering is launching in summer 2020 an online Graduate Certificate in AI Foundations for Product Innovation (AIPI) that will fuel innovation by equipping participants with AI/machine learning skills and a strong understanding of how the technologies can be applied to build new products and services.\n",
      " “Employees who have a sophisticated understanding of AI and machine learning applications can provide unique perspectives on challenges in their field—not only on potential solutions, but, more importantly, on what challenges organizations are able to address,” he said.\n",
      "Although engineers and scientists skilled in machine learning principles are in high demand, business leaders find there is currently insufficient talent with these critical aptitudes. Through the AIPI certificate, Duke aims to address the imbalance between demand for professionals with strong AI skills and the available supply.\n"
     ]
    }
   ],
   "source": [
    "import re\n",
    "\n",
    "hand = open('aipi.txt') # Open file\n",
    "for line in hand: # For every line in file\n",
    "    line = line.rstrip() # Remove whitespaces to right\n",
    "    if re.search('machine learning', line) : # Look for this string\n",
    "        print(line) # If found, print line"
   ]
  },
  {
   "cell_type": "code",
   "execution_count": 27,
   "metadata": {},
   "outputs": [
    {
     "name": "stdout",
     "output_type": "stream",
     "text": [
      "The program is now accepting applications for August 2020. For details, visit meng.duke.edu\n"
     ]
    }
   ],
   "source": [
    "print(line) # This is the last line"
   ]
  },
  {
   "cell_type": "code",
   "execution_count": 8,
   "metadata": {},
   "outputs": [
    {
     "name": "stdout",
     "output_type": "stream",
     "text": [
      "Duke Launches Graduate Certificate in AI for Product Innovation\n",
      "Duke’s AIPI certificate is designed to build graduates’ artificial intelligence expertise and value within their organization and industry. Certificate students will complete a preparatory online bootcamp and a series of four core courses designed with input from industry experts and structured around the product development process.\n"
     ]
    }
   ],
   "source": [
    "import re\n",
    "\n",
    "hand = open('aipi.txt')\n",
    "for line in hand:\n",
    "    line = line.rstrip()\n",
    "    if re.search('^Duke', line) : # all lines that start with \"Duke\"\n",
    "        print(line)"
   ]
  },
  {
   "cell_type": "code",
   "execution_count": 9,
   "metadata": {},
   "outputs": [
    {
     "name": "stdout",
     "output_type": "stream",
     "text": [
      "<re.Match object; span=(78, 91), match='meng.duke.edu'>\n"
     ]
    }
   ],
   "source": [
    "\n",
    "# Search for all characters 0-9, a-z or single period\n",
    "# before duke.edu\n",
    "\n",
    "print(re.search('([\\w]+).duke.edu', line))"
   ]
  },
  {
   "cell_type": "markdown",
   "metadata": {},
   "source": [
    "**Split function:** The split() function returns a list where the string has been split at each match"
   ]
  },
  {
   "cell_type": "code",
   "execution_count": 10,
   "metadata": {},
   "outputs": [
    {
     "name": "stdout",
     "output_type": "stream",
     "text": [
      "['The', 'pollen', 'in', 'Raleigh']\n"
     ]
    }
   ],
   "source": [
    "import re\n",
    "\n",
    "#Split the string at every white-space character:\n",
    "\n",
    "str = \"The pollen in Raleigh\"\n",
    "x = re.split(\"\\s\", str)\n",
    "print(x)"
   ]
  },
  {
   "cell_type": "markdown",
   "metadata": {},
   "source": [
    "**Sub function:** The sub() function replaces the matches with the text of your choice"
   ]
  },
  {
   "cell_type": "code",
   "execution_count": 11,
   "metadata": {},
   "outputs": [
    {
     "name": "stdout",
     "output_type": "stream",
     "text": [
      "The9pollen9in9Raleigh\n"
     ]
    }
   ],
   "source": [
    "import re\n",
    "\n",
    "#Replace all white-space characters with the digit \"9\":\n",
    "\n",
    "str = \"The pollen in Raleigh\"\n",
    "x = re.sub(\"\\s\", \"9\", str)\n",
    "print(x)"
   ]
  },
  {
   "cell_type": "markdown",
   "metadata": {},
   "source": [
    "Reference material at: https://towardsdatascience.com/regular-expressions-explained-c9bce508e672"
   ]
  }
 ],
 "metadata": {
  "kernelspec": {
   "display_name": "Python 3",
   "language": "python",
   "name": "python3"
  },
  "language_info": {
   "codemirror_mode": {
    "name": "ipython",
    "version": 3
   },
   "file_extension": ".py",
   "mimetype": "text/x-python",
   "name": "python",
   "nbconvert_exporter": "python",
   "pygments_lexer": "ipython3",
   "version": "3.7.4"
  }
 },
 "nbformat": 4,
 "nbformat_minor": 2
}
