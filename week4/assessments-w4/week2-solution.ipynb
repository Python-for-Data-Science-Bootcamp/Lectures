{
 "cells": [
  {
   "cell_type": "code",
   "execution_count": 8,
   "metadata": {},
   "outputs": [],
   "source": [
    "def myPiecewiseFunction(x):\n",
    "    ## BEGIN SOLUTION\n",
    "    # Check if input not integer or float\n",
    "    if (type(x) != int) and (type(x) != float): raise ValueError\n",
    "    if x < 0: return (2*x)+5\n",
    "    if x >= 0 and x < 10: return (x**2 - x + 3)\n",
    "    if x >=10: return x**3 - 7*x\n",
    "    \n",
    "    ## END SOLUTION"
   ]
  },
  {
   "cell_type": "code",
   "execution_count": 9,
   "metadata": {},
   "outputs": [
    {
     "data": {
      "text/plain": [
       "23"
      ]
     },
     "execution_count": 9,
     "metadata": {},
     "output_type": "execute_result"
    }
   ],
   "source": [
    "myPiecewiseFunction(5)"
   ]
  },
  {
   "cell_type": "code",
   "execution_count": 3,
   "metadata": {},
   "outputs": [],
   "source": [
    "def strictly_ascending_list(mylist):\n",
    "    ## BEGIN SOLUTION\n",
    "    for i in range(len(mylist)-1):\n",
    "        if mylist[i] >= mylist[i+1]: return False\n",
    "    return True\n",
    "    ## END SOLUTION"
   ]
  },
  {
   "cell_type": "code",
   "execution_count": 4,
   "metadata": {},
   "outputs": [],
   "source": [
    "assert strictly_ascending_list([3, 6, 8, 9])==True\n",
    "assert strictly_ascending_list([-1, 3, 11, 17, 19])==True\n",
    "assert strictly_ascending_list([-1, 0, 1, 2])==True\n",
    "assert strictly_ascending_list([9, 8, 7, 6])==False\n",
    "assert strictly_ascending_list([-1, -2, -3, -4])==False\n",
    "assert strictly_ascending_list([1, 1, 4, 5])==False"
   ]
  },
  {
   "cell_type": "code",
   "execution_count": null,
   "metadata": {},
   "outputs": [],
   "source": [
    "def majorityElement(nums):\n",
    "   \n",
    "    ### BEGIN SOLUTION\n",
    "    newnums=sorted(nums)\n",
    "    return newnums[int(len(nums)/2)] \n",
    "    ### END SOLUTION"
   ]
  },
  {
   "cell_type": "code",
   "execution_count": null,
   "metadata": {},
   "outputs": [],
   "source": [
    "nums = ['abc','abc','dfdwfad']"
   ]
  },
  {
   "cell_type": "code",
   "execution_count": null,
   "metadata": {},
   "outputs": [],
   "source": [
    "majorityElement(nums)"
   ]
  },
  {
   "cell_type": "code",
   "execution_count": null,
   "metadata": {},
   "outputs": [],
   "source": [
    "newnum=sorted(nums)\n",
    "print(newnum)"
   ]
  },
  {
   "cell_type": "code",
   "execution_count": null,
   "metadata": {},
   "outputs": [],
   "source": [
    "size = len(nums)"
   ]
  },
  {
   "cell_type": "code",
   "execution_count": null,
   "metadata": {},
   "outputs": [],
   "source": [
    "ind = int(size/2) - 1"
   ]
  },
  {
   "cell_type": "code",
   "execution_count": null,
   "metadata": {},
   "outputs": [],
   "source": [
    "def encodeString(ori_str):\n",
    "    ### BEGIN SOLUTION\n",
    "    middle_idx = len(ori_str) // 2\n",
    "    return ori_str[middle_idx-1 :  : -1] + ori_str[ : middle_idx-1 : -1]\n",
    "    ### END SOLUTION"
   ]
  },
  {
   "cell_type": "code",
   "execution_count": 1,
   "metadata": {},
   "outputs": [],
   "source": [
    "def encodeString(ori_str):\n",
    "    ### BEGIN SOLUTION\n",
    "    middle=int(len(ori_str)/2)\n",
    "    first_slice=ori_str[:middle]\n",
    "    second_slice=ori_str[middle:]\n",
    "    return first_slice[::-1]+second_slice[::-1]\n",
    "    ### END SOLUTION"
   ]
  },
  {
   "cell_type": "code",
   "execution_count": 2,
   "metadata": {},
   "outputs": [
    {
     "data": {
      "text/plain": [
       "'wkcab detnirp eb tsum senil sihT.elddim eht ni dettilps dna sdra'"
      ]
     },
     "execution_count": 2,
     "metadata": {},
     "output_type": "execute_result"
    }
   ],
   "source": [
    "encodeString('This lines must be printed backwards and splitted in the middle.')"
   ]
  },
  {
   "cell_type": "code",
   "execution_count": 18,
   "metadata": {},
   "outputs": [],
   "source": [
    "def turn_off_order():\n",
    "    ### BEGIN SOLUTION\n",
    "    lamplist = [ 1, 2, 3, 4, 5, 6, 7, 8, 9, 10, 11, 12, 13 ]\n",
    "    \n",
    "    ''' your code here '''\n",
    "    # Track off lamps\n",
    "    offNums = 0\n",
    "    # Track current position in lamplist\n",
    "    position = 0\n",
    "    # Count of lamps \n",
    "    count = 1\n",
    "    # Create an empty order list\n",
    "    order = []\n",
    "    # If the number of off lamps does not reach 13, iterate...\n",
    "    while offNums != 13:\n",
    "        # Check if this is one of the off lamps\n",
    "        if lamplist[position] == -1: \n",
    "            # Move index to the next lamp (modulus 13 so I go back to zero after 12)\n",
    "            position = (position + 1) % 13 \n",
    "            continue # Iterate\n",
    "        \n",
    "        # Check if fifth lamp, turn it off\n",
    "        if count % 5 == 0:\n",
    "            # Add lamp position to the order list \n",
    "            order.append(lamplist[position]) \n",
    "            # Then remove lamp from list by setting flag to -1\n",
    "            lamplist[position] = -1 \n",
    "            # Increase number of off lamps by one\n",
    "            offNums += 1 \n",
    "        \n",
    "        # Move index to the next lamp (modulus 13 so I go back to zero after 12)\n",
    "        position = (position + 1) % 13\n",
    "        # Increase count by one\n",
    "        count += 1 \n",
    "        \n",
    "             \n",
    "    return order\n",
    "    ### END SOLUTION"
   ]
  },
  {
   "cell_type": "code",
   "execution_count": 19,
   "metadata": {},
   "outputs": [
    {
     "data": {
      "text/plain": [
       "[5, 10, 2, 8, 1, 9, 4, 13, 12, 3, 7, 11, 6]"
      ]
     },
     "execution_count": 19,
     "metadata": {},
     "output_type": "execute_result"
    }
   ],
   "source": [
    "turn_off_order()"
   ]
  },
  {
   "cell_type": "code",
   "execution_count": 20,
   "metadata": {},
   "outputs": [],
   "source": [
    "def turn_off_order_upgrade(lamps_num, start, k):\n",
    "    ''' lamps_num : the number of lamps\n",
    "       start: the start lamp\n",
    "       k: turn off the lamp at every k-th lamp\n",
    "    '''\n",
    "    ### BEGIN SOLUTION\n",
    "    # Create lamp list\n",
    "    lamplist = list(range(1, lamps_num+1))\n",
    "    \n",
    "    # lamps off\n",
    "    offNums = 0\n",
    "    # Index of starting point\n",
    "    position = start - 1\n",
    "    # Count\n",
    "    count = 1\n",
    "    # Order list\n",
    "    order = []\n",
    "    while offNums != lamps_num:\n",
    "        \n",
    "        # If off lamp, move index ahead\n",
    "        if lamplist[position] == -1:\n",
    "            position = (position + 1) % lamps_num\n",
    "            continue\n",
    "        \n",
    "        # If \"k\" lamp, turn it off\n",
    "        if count % k == 0:\n",
    "            order.append(lamplist[position])\n",
    "            lamplist[position] = -1\n",
    "            offNums += 1\n",
    "        \n",
    "        position = (position + 1) % lamps_num\n",
    "        count += 1\n",
    "             \n",
    "    return order\n",
    "    ### END SOLUTION"
   ]
  },
  {
   "cell_type": "code",
   "execution_count": 22,
   "metadata": {},
   "outputs": [],
   "source": [
    "assert turn_off_order_upgrade(13, 2, 6) == [7, 13, 6, 1, 9, 4, 2, 12, 3, 8, 5, 11, 10]\n",
    "assert turn_off_order_upgrade(13, 1, 5) == [5, 10, 2, 8, 1, 9, 4, 13, 12, 3, 7, 11, 6]\n",
    "assert turn_off_order_upgrade(23, 12, 4) == [15, 19, 23, 4, 8, 12, 17, 22, 5, 10, 16, 1, 7, 14, 2, 11, 21, 13, 6, 3, 9, 20, 18]"
   ]
  },
  {
   "cell_type": "code",
   "execution_count": 15,
   "metadata": {},
   "outputs": [],
   "source": [
    "def myPiecewiseFunction(x):\n",
    "    if type(x) is int or type(x) is float:\n",
    "        if x<0:\n",
    "            result=2*x+5\n",
    "            return result\n",
    "        if 0<=x<10:\n",
    "            result=x**2-x+3\n",
    "            return result\n",
    "        if x>=10:\n",
    "            result=x**3-7*x\n",
    "            return result\n",
    "    else:\n",
    "        raise ValueError"
   ]
  },
  {
   "cell_type": "code",
   "execution_count": 16,
   "metadata": {},
   "outputs": [],
   "source": [
    "assert myPiecewiseFunction(5) == 23\n",
    "assert myPiecewiseFunction(6) == 33\n",
    "assert myPiecewiseFunction(10) == 930\n",
    "assert myPiecewiseFunction(21) == 9114\n",
    "assert myPiecewiseFunction(0) == 3\n",
    "assert myPiecewiseFunction(-5) == -5\n",
    "assert myPiecewiseFunction(9) == 75"
   ]
  },
  {
   "cell_type": "code",
   "execution_count": 17,
   "metadata": {},
   "outputs": [],
   "source": [
    "try:\n",
    "    myPiecewiseFunction(\"5\")\n",
    "except ValueError:\n",
    "    pass\n",
    "else:\n",
    "    raise AssertionError(\"Error input\")"
   ]
  },
  {
   "cell_type": "code",
   "execution_count": 5,
   "metadata": {},
   "outputs": [],
   "source": [
    "def sort_total_pay(mylist):\n",
    "    ### BEGIN SOLUTION\n",
    "    # take my list, use lambda function to calculate product of tuple element on list\n",
    "    return sorted(mylist,key=lambda x: x[0]*x[1],reverse = True)\n",
    "    ### END SOLUTION"
   ]
  },
  {
   "cell_type": "code",
   "execution_count": 6,
   "metadata": {},
   "outputs": [],
   "source": [
    "assert sort_total_pay([(10.0,4),(15.0,3),(3.1,2),(20.4,2)])==[(15.0, 3), (20.4, 2), (10.0, 4), (3.1, 2)]"
   ]
  },
  {
   "cell_type": "code",
   "execution_count": 13,
   "metadata": {},
   "outputs": [],
   "source": [
    "def encodeString(ori_str):\n",
    "    ### BEGIN SOLUTION\n",
    "    # Find index of middle of string\n",
    "    middle_idx = len(ori_str) // 2\n",
    "    # Now return concatenated backward version of back slice and front slice\n",
    "    return ori_str[middle_idx-1 :  : -1] + ori_str[ : middle_idx-1 : -1]\n",
    "    ### END SOLUTION"
   ]
  },
  {
   "cell_type": "code",
   "execution_count": 12,
   "metadata": {},
   "outputs": [
    {
     "name": "stdout",
     "output_type": "stream",
     "text": [
      "4\n",
      "32\n",
      "32\n",
      "32\n",
      "15\n",
      "15\n",
      "15\n",
      "9\n",
      "9\n",
      "9\n"
     ]
    }
   ],
   "source": [
    "assert encodeString('AaAaBbBb') == 'aAaAbBbB'\n",
    "assert encodeString('This lines must be printed backwards and splitted in the middle.') \\\n",
    "    == 'wkcab detnirp eb tsum senil sihT.elddim eht ni dettilps dna sdra'\n",
    "assert encodeString(encodeString('This lines must be printed backwards and splitted in the middle.')) \\\n",
    "    == 'This lines must be printed backwards and splitted in the middle.'\n",
    "assert encodeString('This is a very secret message!') \\\n",
    "    == ' yrev a si sihT!egassem terces'\n",
    "assert encodeString(encodeString('This is a very secret message!')) \\\n",
    "    == 'This is a very secret message!'\n",
    "assert encodeString('Happy programming~') \\\n",
    "    == 'orp yppaH~gnimmarg'\n",
    "assert encodeString(encodeString('Happy programming~')) \\\n",
    "    == 'Happy programming~'"
   ]
  },
  {
   "cell_type": "code",
   "execution_count": 29,
   "metadata": {},
   "outputs": [],
   "source": [
    "def majorityElement(nums):\n",
    "   \n",
    "    ### BEGIN SOLUTION\n",
    "    # Majority element is the one that shows up more than 50% of the cases\n",
    "    # Sort the list\n",
    "    newnums=sorted(nums)\n",
    "    # Now I return the element of the array just above middle position by finding middle of index\n",
    "    print(newnums,int(len(nums)/2),newnums[int(len(nums)/2)])\n",
    "    return newnums[int(len(nums)/2)] \n",
    "    ### END SOLUTION"
   ]
  },
  {
   "cell_type": "code",
   "execution_count": 31,
   "metadata": {},
   "outputs": [
    {
     "name": "stdout",
     "output_type": "stream",
     "text": [
      "[3, 3, 7] 1 3\n",
      "[1, 1, 1, 1, 1, 2, 2, 2] 4 1\n",
      "[2, 3, 3] 1 3\n",
      "['abc', 'abc', 'dfdwfad'] 1 abc\n"
     ]
    }
   ],
   "source": [
    "assert (majorityElement([3,7,3]) == 3)\n",
    "assert (majorityElement([2,1,1,1,1,2,2,1]) == 1)\n",
    "assert (majorityElement([3,2,3]) == 3)\n",
    "assert (majorityElement(['abc','abc','dfdwfad']) == 'abc')"
   ]
  },
  {
   "cell_type": "code",
   "execution_count": 2,
   "metadata": {},
   "outputs": [],
   "source": [
    "def whoIsCriminals():\n",
    "    ### BEGIN SOLUTION\n",
    "    is_criminals = [0, 1]\n",
    "    name = ['A', 'B', 'C', 'D', 'E', 'F']\n",
    "    \n",
    "    for a in is_criminals:\n",
    "        for b in is_criminals:\n",
    "            for c in is_criminals:\n",
    "                for d in is_criminals:\n",
    "                    for e in is_criminals:\n",
    "                        for f in is_criminals:\n",
    "                            if a + b >= 1 and a + e + f >= 2 and a + d != 2 and (b + c == 2 or b + c == 0) and c + d == 1 and  (d + e == 0 or d == 1) == True:\n",
    "                                return [a, b, c, d, e, f]\n",
    "\n",
    "    ### END SOLUTION"
   ]
  },
  {
   "cell_type": "code",
   "execution_count": 7,
   "metadata": {},
   "outputs": [],
   "source": [
    "assert whoIsCriminals() == [1, 1, 1, 0, 0, 1]"
   ]
  },
  {
   "cell_type": "code",
   "execution_count": 3,
   "metadata": {},
   "outputs": [
    {
     "name": "stdout",
     "output_type": "stream",
     "text": [
      "7.58 µs ± 98 ns per loop (mean ± std. dev. of 7 runs, 100000 loops each)\n"
     ]
    }
   ],
   "source": [
    "timeit(whoIsCriminals())"
   ]
  },
  {
   "cell_type": "code",
   "execution_count": 30,
   "metadata": {},
   "outputs": [],
   "source": [
    "def is_anagrams(word1, word2):\n",
    "    ''' input should be two words with str type\n",
    "        return True or False\n",
    "    '''\n",
    "    # YOUR CODE HERE\n",
    "    if type(word1)!= str or type(word2)!= str: return False\n",
    "    if len(word1)!=len(word2): return False\n",
    "    if word1 == word2: return False\n",
    "    if sorted(word1) == sorted(word2): \n",
    "        return True\n",
    "    else:\n",
    "        return False"
   ]
  },
  {
   "cell_type": "code",
   "execution_count": 31,
   "metadata": {},
   "outputs": [],
   "source": [
    "assert is_anagrams('smartest', 'sttesmar') == True\n",
    "assert is_anagrams('duke', 'duke') == False\n",
    "assert is_anagrams('dukekunshan', 'kunsanduke') == False\n",
    "assert is_anagrams('aaakkkcc', 'aaakkccc') == False\n",
    "assert is_anagrams('data', 'tada') == True"
   ]
  },
  {
   "cell_type": "code",
   "execution_count": null,
   "metadata": {},
   "outputs": [],
   "source": []
  }
 ],
 "metadata": {
  "kernelspec": {
   "display_name": "Python 3",
   "language": "python",
   "name": "python3"
  },
  "language_info": {
   "codemirror_mode": {
    "name": "ipython",
    "version": 3
   },
   "file_extension": ".py",
   "mimetype": "text/x-python",
   "name": "python",
   "nbconvert_exporter": "python",
   "pygments_lexer": "ipython3",
   "version": "3.7.3"
  }
 },
 "nbformat": 4,
 "nbformat_minor": 2
}
