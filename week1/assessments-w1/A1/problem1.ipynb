{
 "cells": [
  {
   "cell_type": "markdown",
   "metadata": {
    "nbgrader": {
     "grade": false,
     "grade_id": "jupyter",
     "locked": true,
     "schema_version": 3,
     "solution": false
    }
   },
   "source": [
    "# Python for Data Science Bootcamp\n",
    "## Assignment 1\n",
    "\n",
    "NOTE: This assignment has 4 problems.  Please write your code in the designated portion of the autograded answer cell.\n",
    "\n",
    "For this problem set, we'll be using the Jupyter notebook and nbgrader:\n",
    "\n",
    "![](jupyter.png)\n",
    "\n",
    "©2020 Luis Morales. All rights reserved. "
   ]
  },
  {
   "cell_type": "markdown",
   "metadata": {},
   "source": [
    "## Problem 1 (1 point)\n",
    "\n",
    "Write a function that test whether the input number is a positive odd integer. Don't worry about the incorrect input."
   ]
  },
  {
   "cell_type": "code",
   "execution_count": 13,
   "metadata": {
    "nbgrader": {
     "grade": false,
     "grade_id": "myfunction",
     "locked": false,
     "schema_version": 3,
     "solution": true,
     "task": false
    }
   },
   "outputs": [],
   "source": [
    "def myfunction(n):\n",
    "    \"\"\"test whether the input number is a positive odd integer. Don't worry about the incorrect input.\n",
    "    \"\"\"\n",
    "    ### BEGIN SOLUTION\n",
    "    return (n>0)&(n%2==1)\n",
    "    ### END SOLUTION"
   ]
  },
  {
   "cell_type": "code",
   "execution_count": 14,
   "metadata": {
    "nbgrader": {
     "grade": true,
     "grade_id": "evalmyfunction",
     "locked": true,
     "points": 1,
     "schema_version": 3,
     "solution": false,
     "task": false
    }
   },
   "outputs": [],
   "source": [
    "\"\"\"\n",
    "this is testing!\n",
    "Check that positive_odd_int function returns the correct output for several inputs\"\"\"\n",
    "assert myfunction(10) == False\n",
    "assert myfunction(11) == True\n",
    "assert myfunction(-21) == False"
   ]
  },
  {
   "cell_type": "markdown",
   "metadata": {
    "nbgrader": {
     "grade": false,
     "grade_id": "cell-7b7b8b2b7e456082",
     "locked": true,
     "schema_version": 3,
     "solution": false,
     "task": false
    }
   },
   "source": [
    "## Problem 2 (1 point)\n",
    "\n",
    "Write a function that returns a list of numbers, such that $x_i=i^3$, for $1\\leq i \\leq n$. Make sure it handles the case where $n<1$ by raising a `ValueError`."
   ]
  },
  {
   "cell_type": "code",
   "execution_count": 25,
   "metadata": {
    "nbgrader": {
     "grade": false,
     "grade_id": "cubics",
     "locked": false,
     "schema_version": 3,
     "solution": true
    }
   },
   "outputs": [],
   "source": [
    "def cubics(n):\n",
    "    \"\"\"Compute the cubics of numbers from 1 to n, such that the \n",
    "    ith element of the returned list equals i^3.\n",
    "    \n",
    "    \"\"\"\n",
    "    ### BEGIN SOLUTION\n",
    "    if((n<=0)|(type(n)!=int)):\n",
    "        raise ValueError('n must be a positive integer') \n",
    "    \n",
    "    return [i**3 for i in range (1,n+1)]\n",
    "    ### END SOLUTION"
   ]
  },
  {
   "cell_type": "markdown",
   "metadata": {
    "nbgrader": {
     "grade": false,
     "grade_id": "cell-2b9d954ba78a6d36",
     "locked": true,
     "schema_version": 3,
     "solution": false
    }
   },
   "source": [
    "Your function should print `[1, 8, 27, 64, 125, 216, 343, 512, 729, 1000]` for $n=10$. Check that it does:"
   ]
  },
  {
   "cell_type": "code",
   "execution_count": 16,
   "metadata": {
    "nbgrader": {
     "grade": false,
     "grade_id": "cell-32a68f9da9b462ef",
     "locked": true,
     "schema_version": 3,
     "solution": false
    }
   },
   "outputs": [
    {
     "data": {
      "text/plain": [
       "[1, 8, 27, 64, 125, 216, 343, 512, 729, 1000]"
      ]
     },
     "execution_count": 16,
     "metadata": {},
     "output_type": "execute_result"
    }
   ],
   "source": [
    "cubics(10)"
   ]
  },
  {
   "cell_type": "code",
   "execution_count": 17,
   "metadata": {
    "nbgrader": {
     "grade": true,
     "grade_id": "correct_cubics",
     "locked": false,
     "points": 0.75,
     "schema_version": 3,
     "solution": false
    }
   },
   "outputs": [],
   "source": [
    "\"\"\"Check that cubics returns the correct output for several inputs\"\"\"\n",
    "assert cubics(1) == [1]\n",
    "assert cubics(2) == [1, 8]\n",
    "assert cubics(10) == [1, 8, 27, 64, 125, 216, 343, 512, 729, 1000]\n",
    "assert cubics(11) == [1, 8, 27, 64, 125, 216, 343, 512, 729, 1000, 1331]"
   ]
  },
  {
   "cell_type": "code",
   "execution_count": 18,
   "metadata": {
    "nbgrader": {
     "grade": true,
     "grade_id": "cubics_invalid_input",
     "locked": false,
     "points": 0.25,
     "schema_version": 3,
     "solution": false
    }
   },
   "outputs": [],
   "source": [
    "\"\"\"Check that cubics raises an error for invalid inputs\"\"\"\n",
    "try:\n",
    "    cubics(0)\n",
    "except ValueError:\n",
    "    pass\n",
    "else:\n",
    "    raise AssertionError(\"did not raise\")\n",
    "\n",
    "try:\n",
    "    cubics(-4)\n",
    "except ValueError:\n",
    "    pass\n",
    "else:\n",
    "    raise AssertionError(\"did not raise\")"
   ]
  },
  {
   "cell_type": "markdown",
   "metadata": {
    "nbgrader": {
     "grade": false,
     "grade_id": "cell-4c6accaf71092949",
     "locked": true,
     "schema_version": 3,
     "solution": false
    }
   },
   "source": [
    "## Problem 3 (1 point)\n",
    "\n",
    "Using your `cubics` function, write a function that computes the sum of the cubics of the numbers from 1 to $n$. Your function should call the `cubics` function -- it should NOT reimplement its functionality."
   ]
  },
  {
   "cell_type": "code",
   "execution_count": 19,
   "metadata": {
    "nbgrader": {
     "grade": false,
     "grade_id": "sum_of_cubics",
     "locked": false,
     "schema_version": 3,
     "solution": true
    }
   },
   "outputs": [],
   "source": [
    "def sum_of_cubics(n):\n",
    "    \"\"\"Compute the sum of the cubics of numbers from 1 to n.\"\"\"\n",
    "    ### BEGIN SOLUTION\n",
    "    return sum(cubics(n))\n",
    "    ### END SOLUTION"
   ]
  },
  {
   "cell_type": "code",
   "execution_count": 20,
   "metadata": {
    "nbgrader": {
     "grade": true,
     "grade_id": "correct_sum_of_cubics",
     "locked": false,
     "points": 0.5,
     "schema_version": 3,
     "solution": false
    }
   },
   "outputs": [],
   "source": [
    "\"\"\"Check that sum_of_cubics returns the correct answer for various inputs.\"\"\"\n",
    "assert sum_of_cubics(1) == 1\n",
    "assert sum_of_cubics(2) == 9\n",
    "assert sum_of_cubics(10) == 3025\n",
    "assert sum_of_cubics(11) == 4356"
   ]
  },
  {
   "cell_type": "code",
   "execution_count": 21,
   "metadata": {
    "nbgrader": {
     "grade": true,
     "grade_id": "sum_of_cubics_uses_cubics",
     "locked": false,
     "points": 0.5,
     "schema_version": 3,
     "solution": false
    }
   },
   "outputs": [],
   "source": [
    "\"\"\"Check that sum_of_cubics relies on cubics.\"\"\"\n",
    "orig_cubics = cubics\n",
    "del cubics\n",
    "try:\n",
    "    sum_of_cubics(1)\n",
    "except NameError:\n",
    "    pass\n",
    "else:\n",
    "    raise AssertionError(\"sum_of_cubics does not use cubics\")\n",
    "finally:\n",
    "    cubics = orig_cubics"
   ]
  },
  {
   "cell_type": "markdown",
   "metadata": {
    "nbgrader": {
     "grade": false,
     "grade_id": "cell-b7d6b8583ec5a971",
     "locked": true,
     "schema_version": 3,
     "solution": false,
     "task": false
    }
   },
   "source": [
    "## Problem 4 (1 point)\n",
    "\n",
    "Write a function that returns a list of numbers, that form a Collatz conjecture sequence. Make sure the input is an int and it handles the case where $n<=0$ by raising a `ValueError`.\n",
    "https://en.wikipedia.org/wiki/Collatz_conjecture"
   ]
  },
  {
   "cell_type": "code",
   "execution_count": 22,
   "metadata": {
    "nbgrader": {
     "grade": false,
     "grade_id": "Collatz",
     "locked": false,
     "schema_version": 3,
     "solution": true,
     "task": false
    }
   },
   "outputs": [],
   "source": [
    "def Collatz(n):\n",
    "    \"\"\"For input n (must be a positive integer), compute a list of numbers in reverse order, that form a Collatz conjecture sequence.\n",
    "  \n",
    "    \"\"\"\n",
    "    ### BEGIN SOLUTION\n",
    "    if(type(n)!=int):\n",
    "        raise ValueError(\"n must be a positive integer\")\n",
    "    if(n<=0):\n",
    "        raise ValueError(\"n must be a positive integer\")\n",
    "    output=[n]\n",
    "    currentnum=n\n",
    "    while (currentnum!=1):\n",
    "        if(currentnum%2==0):\n",
    "            currentnum=int(currentnum/2)\n",
    "        else:\n",
    "            currentnum=(3*currentnum+1)\n",
    "        output.append(currentnum)\n",
    "    return output    \n",
    "    ### END SOLUTION"
   ]
  },
  {
   "cell_type": "code",
   "execution_count": 23,
   "metadata": {
    "nbgrader": {
     "grade": true,
     "grade_id": "Correct_Collatz",
     "locked": true,
     "points": 0.5,
     "schema_version": 3,
     "solution": false,
     "task": false
    }
   },
   "outputs": [],
   "source": [
    "\"\"\"Check that cubics returns the correct output for several inputs\"\"\"\n",
    "assert Collatz(1) == [1]\n",
    "assert Collatz(2) == [2, 1]\n",
    "assert Collatz(10) == [10, 5, 16, 8, 4, 2, 1]\n",
    "assert Collatz(11) == [11, 34, 17, 52, 26, 13, 40, 20, 10, 5, 16, 8, 4, 2, 1]"
   ]
  },
  {
   "cell_type": "code",
   "execution_count": 24,
   "metadata": {
    "nbgrader": {
     "grade": true,
     "grade_id": "Collatz_invalid_input",
     "locked": true,
     "points": 0.5,
     "schema_version": 3,
     "solution": false,
     "task": false
    }
   },
   "outputs": [],
   "source": [
    "\"\"\"Check that cubics raises an error for invalid inputs\"\"\"\n",
    "try:\n",
    "    Collatz(0)\n",
    "except ValueError:\n",
    "    pass\n",
    "else:\n",
    "    raise AssertionError(\"did not raise\")\n",
    "\n",
    "try:\n",
    "    Collatz(-4)\n",
    "except ValueError:\n",
    "    pass\n",
    "else:\n",
    "    raise AssertionError(\"did not raise\")\n",
    "    \n",
    "try:\n",
    "    Collatz(10.0)\n",
    "except ValueError:\n",
    "    pass\n",
    "else:\n",
    "    raise AssertionError(\"did not raise\")"
   ]
  }
 ],
 "metadata": {
  "celltoolbar": "Create Assignment",
  "kernelspec": {
   "display_name": "Python 3",
   "language": "python",
   "name": "python3"
  },
  "language_info": {
   "codemirror_mode": {
    "name": "ipython",
    "version": 3
   },
   "file_extension": ".py",
   "mimetype": "text/x-python",
   "name": "python",
   "nbconvert_exporter": "python",
   "pygments_lexer": "ipython3",
   "version": "3.7.4"
  }
 },
 "nbformat": 4,
 "nbformat_minor": 1
}
