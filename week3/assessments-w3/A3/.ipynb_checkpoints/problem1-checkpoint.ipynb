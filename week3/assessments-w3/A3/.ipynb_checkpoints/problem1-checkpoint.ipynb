{
 "cells": [
  {
   "cell_type": "markdown",
   "metadata": {
    "nbgrader": {
     "grade": false,
     "grade_id": "jupyter",
     "locked": true,
     "schema_version": 3,
     "solution": false
    }
   },
   "source": [
    "# Python for Data Science Bootcamp\n",
    "## Assignment 3\n",
    "\n",
    "NOTE: This assignment has 4 problems.  Please write your code in the designated portion of the autograded answer cell.\n",
    "\n",
    "For this problem set, we'll be using the Jupyter notebook and nbgrader:\n",
    "\n",
    "![](jupyter.png)\n",
    "\n",
    "©2020 Luis Morales. All rights reserved. "
   ]
  },
  {
   "cell_type": "markdown",
   "metadata": {
    "nbgrader": {
     "grade": false,
     "grade_id": "cell-7c27096ed0a46c7b",
     "locked": true,
     "schema_version": 3,
     "solution": false,
     "task": false
    }
   },
   "source": [
    "## Problem 1 (1 point)\n",
    "\n",
    "Create a function that swaps the first two rows of the input matrix and returns the resulting matrix"
   ]
  },
  {
   "cell_type": "code",
   "execution_count": 2,
   "metadata": {
    "nbgrader": {
     "grade": false,
     "grade_id": "swap",
     "locked": false,
     "schema_version": 3,
     "solution": true,
     "task": false
    }
   },
   "outputs": [],
   "source": [
    "import numpy as np\n",
    "def swap_row12(A):\n",
    "    ### BEGIN SOLUTION\n",
    "    B=A.copy()\n",
    "    B[[0,1]] = A[[1,0]]\n",
    "    return B\n",
    "    ### END SOLUTION"
   ]
  },
  {
   "cell_type": "code",
   "execution_count": 3,
   "metadata": {
    "nbgrader": {
     "grade": true,
     "grade_id": "swaptest",
     "locked": true,
     "points": 1,
     "schema_version": 3,
     "solution": false,
     "task": false
    }
   },
   "outputs": [],
   "source": [
    "import numpy as np\n",
    "A = np.arange(25).reshape(5,5)\n",
    "B = swap_row12(A)\n",
    "assert((np.array([[ 5,  6,  7,  8,  9],[ 0,  1,  2,  3,  4],[10, 11, 12, 13, 14],[15, 16, 17, 18, 19],[20, 21, 22, 23, 24]])==B).all())"
   ]
  },
  {
   "cell_type": "markdown",
   "metadata": {
    "nbgrader": {
     "grade": false,
     "grade_id": "prob2",
     "locked": true,
     "schema_version": 3,
     "solution": false,
     "task": false
    }
   },
   "source": [
    "## Problem 2 (1 point)\n",
    "\n",
    "Write a function that for an input scalar variable x (𝑥∈(0,2𝜋)) and positive integer N, calculates and returns Σ𝑁𝑘=1(−1)𝑘−1𝑥2𝑘−1(2𝑘−1)!, we will compare the results with 𝑠𝑖𝑛(𝑥) according to different N. Hint: np.arange np.sum np.multiply.accumulate"
   ]
  },
  {
   "cell_type": "code",
   "execution_count": 4,
   "metadata": {
    "nbgrader": {
     "grade": false,
     "grade_id": "mysin",
     "locked": false,
     "schema_version": 3,
     "solution": true
    }
   },
   "outputs": [],
   "source": [
    "import numpy as np\n",
    "def mysin(x,N):\n",
    "    ### BEGIN SOLUTION\n",
    "    k=np.arange(1,N+1) # Construct array k with N elements starting at 1\n",
    "    # Let me calculate denominator (2k-1)!\n",
    "    # Let me use multiply accumulate which is like a vector of k factorials\n",
    "    k2=np.multiply.accumulate(np.arange(1,2*N)) # Construct array k2\n",
    "    # However, we need a vector of (2k-1)!, so we must skip every other value\n",
    "    temp1=k2[::2] # This vector skips every other value of k2 vector \n",
    "    data2=(-1)**(k-1)*x**(2*k-1)/temp1 # now i can calculate each value of equation\n",
    "    return np.sum(data2) # add elements of data2 and return that value\n",
    "    \n",
    "    ### END SOLUTION"
   ]
  },
  {
   "cell_type": "code",
   "execution_count": 5,
   "metadata": {
    "nbgrader": {
     "grade": true,
     "grade_id": "mysintest",
     "locked": false,
     "points": 1,
     "schema_version": 3,
     "solution": false
    }
   },
   "outputs": [],
   "source": [
    "assert(abs(mysin(np.pi/2,10)-1)<1e-5)\n",
    "assert(abs(mysin(np.pi/4,10)-np.sqrt(2)/2)<1e-5)\n",
    "assert(abs(mysin(np.pi*3/2,10)-(-1))<1e-5)"
   ]
  },
  {
   "cell_type": "markdown",
   "metadata": {
    "nbgrader": {
     "grade": false,
     "grade_id": "cell-4c6accaf71092949",
     "locked": true,
     "schema_version": 3,
     "solution": false
    }
   },
   "source": [
    "## Problem 3 (1 point)\n",
    "\n",
    "Create a function that given an input numpy array (2D matrix), performs mean substraction for each column and returns the resulting one using broadcasting"
   ]
  },
  {
   "cell_type": "code",
   "execution_count": 6,
   "metadata": {
    "nbgrader": {
     "grade": false,
     "grade_id": "meansub",
     "locked": false,
     "schema_version": 3,
     "solution": true
    }
   },
   "outputs": [],
   "source": [
    "import numpy as np\n",
    "def mean_sub_col(A):\n",
    "    ### BEGIN SOLUTION\n",
    "     \n",
    "    return A-np.mean(A,axis=0)\n",
    "    ### END SOLUTION"
   ]
  },
  {
   "cell_type": "code",
   "execution_count": 7,
   "metadata": {
    "nbgrader": {
     "grade": true,
     "grade_id": "meansubtest",
     "locked": false,
     "points": 1,
     "schema_version": 3,
     "solution": false
    }
   },
   "outputs": [],
   "source": [
    "import numpy as np\n",
    "x=np.arange(12).reshape(3,4)\n",
    "assert (mean_sub_col(x)==np.array([[-4., -4., -4., -4.],\n",
    "       [ 0.,  0.,  0.,  0.],\n",
    "       [ 4.,  4.,  4.,  4.]])).all()"
   ]
  },
  {
   "attachments": {
    "image.png": {
     "image/png": "[encoded data removed]"
    }
   },
   "cell_type": "markdown",
   "metadata": {
    "nbgrader": {
     "grade": false,
     "grade_id": "cell-b7d6b8583ec5a971",
     "locked": true,
     "schema_version": 3,
     "solution": false,
     "task": false
    }
   },
   "source": [
    "## Problem 4 (1 point)\n",
    "\n",
    "Write a function that creates a 8 by 8 Numpy array intended to be a representation of a chess board (0=white, 1=black) that matches image below and return it \n",
    "![image.png](attachment:image.png)"
   ]
  },
  {
   "cell_type": "code",
   "execution_count": 8,
   "metadata": {
    "nbgrader": {
     "grade": false,
     "grade_id": "makechess",
     "locked": false,
     "schema_version": 3,
     "solution": true,
     "task": false
    }
   },
   "outputs": [],
   "source": [
    "import numpy as np\n",
    "def make_chess_board_8():\n",
    "    ### BEGIN SOLUTION\n",
    "    Z = np.zeros((8,8),dtype=int)\n",
    "    Z[1::2,::2] = 1\n",
    "    Z[::2,1::2] = 1\n",
    "    return Z\n",
    "    ### END SOLUTION"
   ]
  },
  {
   "cell_type": "code",
   "execution_count": 9,
   "metadata": {
    "nbgrader": {
     "grade": true,
     "grade_id": "makechesstest",
     "locked": true,
     "points": 1,
     "schema_version": 3,
     "solution": false,
     "task": false
    }
   },
   "outputs": [],
   "source": [
    "import numpy as np\n",
    "assert (make_chess_board_8()==(np.array([[0, 1, 0, 1, 0, 1, 0, 1],\n",
    "       [1, 0, 1, 0, 1, 0, 1, 0],\n",
    "       [0, 1, 0, 1, 0, 1, 0, 1],\n",
    "       [1, 0, 1, 0, 1, 0, 1, 0],\n",
    "       [0, 1, 0, 1, 0, 1, 0, 1],\n",
    "       [1, 0, 1, 0, 1, 0, 1, 0],\n",
    "       [0, 1, 0, 1, 0, 1, 0, 1],\n",
    "       [1, 0, 1, 0, 1, 0, 1, 0]]))).all()"
   ]
  }
 ],
 "metadata": {
  "celltoolbar": "Create Assignment",
  "kernelspec": {
   "display_name": "Python 3",
   "language": "python",
   "name": "python3"
  },
  "language_info": {
   "codemirror_mode": {
    "name": "ipython",
    "version": 3
   },
   "file_extension": ".py",
   "mimetype": "text/x-python",
   "name": "python",
   "nbconvert_exporter": "python",
   "pygments_lexer": "ipython3",
   "version": "3.7.4"
  }
 },
 "nbformat": 4,
 "nbformat_minor": 1
}
