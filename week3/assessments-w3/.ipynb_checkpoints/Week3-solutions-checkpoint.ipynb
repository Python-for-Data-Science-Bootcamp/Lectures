{
 "cells": [
  {
   "cell_type": "code",
   "execution_count": null,
   "metadata": {},
   "outputs": [],
   "source": [
    "import numpy as np\n",
    "def swap_row12(A):\n",
    "    ### BEGIN SOLUTION\n",
    "    # Create a copy of A (why copy? - otherwise A is mod)\n",
    "    B=A.copy()\n",
    "    # Assign new values to row 0 and row 1 of B\n",
    "    B[[0,1]] = A[[1,0]]\n",
    "    # Return B\n",
    "    return B\n",
    "    ### END SOLUTION"
   ]
  },
  {
   "cell_type": "code",
   "execution_count": 19,
   "metadata": {},
   "outputs": [],
   "source": [
    "import numpy as np\n",
    "def mysin(x,N):\n",
    "    ### BEGIN SOLUTION\n",
    "    k=np.arange(1,N+1) # Construct array k with N elements starting at 1\n",
    "    # Let me calculate denominator (2k-1)!\n",
    "    # Let me use multiply accumulate which is like a vector of k factorials\n",
    "    k2=np.multiply.accumulate(np.arange(1,2*N)) # Construct array k2\n",
    "    # However, we need a vector of (2k-1)!, so we must skip every other value\n",
    "    temp1=k2[::2] # This vector skips every other value of k2 vector \n",
    "    data2=(-1)**(k-1)*x**(2*k-1)/temp1 # now i can calculate each value of equation\n",
    "    return np.sum(data2) # add elements of data2 and return that value\n",
    "    \n",
    "    ### END SOLUTION"
   ]
  },
  {
   "cell_type": "code",
   "execution_count": 20,
   "metadata": {},
   "outputs": [],
   "source": [
    "assert(abs(mysin(np.pi/2,10)-1)<1e-5)\n",
    "assert(abs(mysin(np.pi/4,10)-np.sqrt(2)/2)<1e-5)\n",
    "assert(abs(mysin(np.pi*3/2,10)-(-1))<1e-5)"
   ]
  },
  {
   "cell_type": "code",
   "execution_count": 14,
   "metadata": {},
   "outputs": [
    {
     "name": "stdout",
     "output_type": "stream",
     "text": [
      "0.7071067811865475\n"
     ]
    },
    {
     "data": {
      "text/plain": [
       "0.7071067811865476"
      ]
     },
     "execution_count": 14,
     "metadata": {},
     "output_type": "execute_result"
    }
   ],
   "source": [
    "print(mysin(np.pi/4,10))\n",
    "np.sqrt(2)/2"
   ]
  },
  {
   "cell_type": "code",
   "execution_count": null,
   "metadata": {},
   "outputs": [],
   "source": [
    "import numpy as np\n",
    "def mean_sub_col(A):\n",
    "    ### BEGIN SOLUTION\n",
    "    # substract mean value from metrics \n",
    "    # NOTE: substract mean of input array with flag of AXIS = 0 so it is mean of each column\n",
    "    return A-np.mean(A,axis=0)\n",
    "    ### END SOLUTION"
   ]
  },
  {
   "cell_type": "code",
   "execution_count": null,
   "metadata": {},
   "outputs": [],
   "source": [
    "import numpy as np\n",
    "def mean_sub_row(A):\n",
    "    ### BEGIN SOLUTION\n",
    "    # NOTE: calculate mean with axis flag = 1 (mean of each row).  However, you need to \n",
    "    # create a column vector or you will get an error with broadcasting rules\n",
    "    return A-np.mean(A,axis=1)[:,np.newaxis]\n",
    "    ### END SOLUTION"
   ]
  },
  {
   "cell_type": "code",
   "execution_count": 3,
   "metadata": {},
   "outputs": [],
   "source": [
    "import numpy as np\n",
    "def make_chess_board_8():\n",
    "    ### BEGIN SOLUTION\n",
    "    # Create array of 8 columns and 8 rows. Create an array of 8 x 8 with all zeros, dtype=int.  \n",
    "    Z = np.zeros((8,8),dtype=int)\n",
    "    # For odd row, assign value of 1 to 1st column and every other column from there.  \n",
    "    Z[1::2,::2] = 1\n",
    "    print(Z)\n",
    "   # For even row, assign value of 1 to 2nd column and every other column from there.  \n",
    "    Z[::2,1::2] = 1\n",
    "    # Return array \n",
    "    return Z\n",
    "    ### END SOLUTION"
   ]
  },
  {
   "cell_type": "code",
   "execution_count": 4,
   "metadata": {},
   "outputs": [
    {
     "name": "stdout",
     "output_type": "stream",
     "text": [
      "[[0 0 0 0 0 0 0 0]\n",
      " [1 0 1 0 1 0 1 0]\n",
      " [0 0 0 0 0 0 0 0]\n",
      " [1 0 1 0 1 0 1 0]\n",
      " [0 0 0 0 0 0 0 0]\n",
      " [1 0 1 0 1 0 1 0]\n",
      " [0 0 0 0 0 0 0 0]\n",
      " [1 0 1 0 1 0 1 0]]\n"
     ]
    },
    {
     "data": {
      "text/plain": [
       "array([[0, 1, 0, 1, 0, 1, 0, 1],\n",
       "       [1, 0, 1, 0, 1, 0, 1, 0],\n",
       "       [0, 1, 0, 1, 0, 1, 0, 1],\n",
       "       [1, 0, 1, 0, 1, 0, 1, 0],\n",
       "       [0, 1, 0, 1, 0, 1, 0, 1],\n",
       "       [1, 0, 1, 0, 1, 0, 1, 0],\n",
       "       [0, 1, 0, 1, 0, 1, 0, 1],\n",
       "       [1, 0, 1, 0, 1, 0, 1, 0]])"
      ]
     },
     "execution_count": 4,
     "metadata": {},
     "output_type": "execute_result"
    }
   ],
   "source": [
    "make_chess_board_8()"
   ]
  },
  {
   "cell_type": "code",
   "execution_count": 7,
   "metadata": {},
   "outputs": [],
   "source": [
    "import numpy as np\n",
    "import pandas as pd\n",
    "def myfunction():\n",
    "    ### BEGIN SOLUTION\n",
    "        ### BEGIN SOLUTION\n",
    "    cups = pd.read_csv('WorldCups.csv')\n",
    "    cups['Attendance']=cups['Attendance'].str.replace('\\.', '').astype(int)\n",
    "    return cups['Country'].iloc[cups['Attendance'].values.argmax()]\n",
    "    ### END SOLUTION\n",
    "\n",
    "    ### END SOLUTION"
   ]
  },
  {
   "cell_type": "code",
   "execution_count": 8,
   "metadata": {},
   "outputs": [],
   "source": [
    "assert myfunction()=='USA'"
   ]
  },
  {
   "cell_type": "code",
   "execution_count": 3,
   "metadata": {},
   "outputs": [],
   "source": [
    "import numpy as np\n",
    "import pandas as pd\n",
    "def myfunction():\n",
    "    ### BEGIN SOLUTION\n",
    "    # Read player’s data\n",
    "    data_players=pd.read_csv('WorldCupPlayers.csv')\n",
    "    # read matches data\n",
    "    data_matches = pd.read_csv('WorldCupMatches.csv')\n",
    "    # Eliminate duplicates entries in data players\n",
    "    data_players.drop_duplicates(inplace=True)\n",
    "    # Eliminate NaN in data_matches\n",
    "    data_matches.dropna(inplace=True)\n",
    "    # Eliminate duplicates in matches\n",
    "    data_matches.drop_duplicates(inplace=True)\n",
    "    # Merge matches and player data based on MatchID\n",
    "    data1=pd.merge(data_matches,data_players,on='MatchID')\n",
    "    # Use groupby\n",
    "    a=np.sum(data1.groupby(['Team Initials','Player Name','Year','Shirt Number']).count()['MatchID']==7)\n",
    "    return a\n",
    "\n",
    "    ### END SOLUTION"
   ]
  },
  {
   "cell_type": "code",
   "execution_count": 3,
   "metadata": {},
   "outputs": [],
   "source": [
    "import numpy as np\n",
    "def tell_the_shape(x):\n",
    "    ### BEGIN SOLUTION\n",
    "    # NOTE: Use f’ function, use shape method and apply to 0 dimension and 1 dimension\n",
    "    return f'the input numpy array has {x.shape[0]} rows, {x.shape[1]} columns!'\n",
    "    ### END SOLUTION"
   ]
  },
  {
   "cell_type": "code",
   "execution_count": 5,
   "metadata": {},
   "outputs": [
    {
     "name": "stdout",
     "output_type": "stream",
     "text": [
      "<class 'str'>\n"
     ]
    }
   ],
   "source": [
    "import numpy as np\n",
    "data=np.arange(12).reshape(3,4)\n",
    "assert tell_the_shape(data)=='the input numpy array has 3 rows, 4 columns!'\n",
    "data=np.arange(15).reshape(3,5)\n",
    "assert tell_the_shape(data)=='the input numpy array has 3 rows, 5 columns!'\n",
    "data=np.empty((4,4))\n",
    "assert tell_the_shape(data)=='the input numpy array has 4 rows, 4 columns!'\n",
    "print(type(tell_the_shape(data)))"
   ]
  },
  {
   "cell_type": "code",
   "execution_count": 6,
   "metadata": {},
   "outputs": [],
   "source": [
    "import numpy as np\n",
    "data=np.arange(12).reshape(3,4)\n",
    "assert tell_the_shape(data)=='the input numpy array has 3 rows, 4 columns!'\n",
    "data=np.arange(15).reshape(3,5)\n",
    "assert tell_the_shape(data)=='the input numpy array has 3 rows, 5 columns!'\n",
    "data=np.empty((4,4))\n",
    "assert tell_the_shape(data)=='the input numpy array has 4 rows, 4 columns!'"
   ]
  },
  {
   "cell_type": "code",
   "execution_count": 4,
   "metadata": {},
   "outputs": [],
   "source": [
    "import numpy as np\n",
    "def myfunction(x,N):\n",
    "    ### BEGIN SOLUTION\n",
    "    # NOTE:  Construct numpy array “n” of N+1 elements.  Then exponentiate to power of “n”.  \n",
    "    # Return sum of exponentiated value.\n",
    "    n=np.arange(N+1) # Construct array of N+1 elements (0 to N)\n",
    "    data1=(-x)**n # exponenciate value of x to the power of n\n",
    "    return data1.sum() # sum all the values\n",
    "    ### END SOLUTION"
   ]
  },
  {
   "cell_type": "code",
   "execution_count": null,
   "metadata": {},
   "outputs": [],
   "source": [
    "import numpy as np\n",
    "assert(~(myfunction(0.5,10)==1/(1+0.5)))\n",
    "assert(~(myfunction(0.5,50)==1/(1+0.5)))\n",
    "assert((myfunction(0.5,100)==1/(1+0.5)))\n",
    "assert((myfunction(0.5,200)==1/(1+0.5)))\n",
    "assert(~(myfunction(0.2,10)==1/(1+0.2)))\n",
    "assert((myfunction(0.2,50)==1/(1+0.2)))"
   ]
  },
  {
   "cell_type": "code",
   "execution_count": null,
   "metadata": {},
   "outputs": [],
   "source": [
    "import numpy as np\n",
    "def myfunction(A):\n",
    "    ### BEGIN SOLUTION\n",
    "    # How many even numbers between 5 and 15?\n",
    "    # Sum of all instances in array when condition is True\n",
    "    return np.sum((A%2==0) & (A<15) & (A>5))\n",
    "    ### END SOLUTION"
   ]
  },
  {
   "cell_type": "code",
   "execution_count": 7,
   "metadata": {},
   "outputs": [],
   "source": [
    "import numpy as np\n",
    "import pandas as pd\n",
    "def myfunction():\n",
    "    ### BEGIN SOLUTION\n",
    "    # Input data\n",
    "    cups = pd.read_csv('WorldCups.csv') # read data file\n",
    "    # Number of teams that won when there were more than 16 qualifiers\n",
    "    n1=cups[cups['QualifiedTeams']>=16].shape[0] # \n",
    "    # Number of teams that won when they were home team AND 16 or more qualified\n",
    "    n2=cups[(cups['Country'] == cups['Winner'])&(cups['QualifiedTeams']>=16)].shape[0]\n",
    "    # return percentage of host teams that won \n",
    "    return n2/n1\n",
    "    ### END SOLUTION"
   ]
  },
  {
   "cell_type": "code",
   "execution_count": 8,
   "metadata": {},
   "outputs": [],
   "source": [
    "assert abs(myfunction()-0.235)<0.01"
   ]
  },
  {
   "cell_type": "code",
   "execution_count": 2,
   "metadata": {},
   "outputs": [],
   "source": [
    "import numpy as np\n",
    "import pandas as pd\n",
    "def myfunction():\n",
    "\n",
    "    ### BEGIN SOLUTION\n",
    "    # Read data file\n",
    "    cups = pd.read_csv('WorldCups.csv')\n",
    "    # Remove dots in attendance string and covert to integer\n",
    "    cups['Attendance']=cups['Attendance'].str.replace('\\.', '').astype(int)\n",
    "    # Index of largest value\n",
    "    large=cups['Attendance'].values.argmax() \n",
    "    # Show me value in country corresponding to large\n",
    "    return cups[\"Country\"].iloc[large]\n",
    "    ### END SOLUTION"
   ]
  },
  {
   "cell_type": "code",
   "execution_count": 3,
   "metadata": {},
   "outputs": [],
   "source": [
    "assert myfunction()=='USA'"
   ]
  },
  {
   "cell_type": "code",
   "execution_count": 4,
   "metadata": {},
   "outputs": [],
   "source": [
    "import pandas as pd\n",
    "def myfunction():\n",
    "\n",
    "    ### BEGIN SOLUTION\n",
    "\n",
    "    # Read input file\n",
    "    matches = pd.read_csv('WorldCupMatches.csv')\n",
    "    # Drop duplicates\n",
    "    matches = matches.drop_duplicates()\n",
    "    # Add outcome column\n",
    "    # Is Home team goals greater than away team goals?\n",
    "    matches[\"outcome\"]=(matches['Home Team Goals'] > matches['Away Team Goals'])\n",
    "    # Sum of all TRUE divided by all matches (once duplicates eliminated)\n",
    "    return np.nansum(matches[\"outcome\"])/matches.shape[0]\n",
    "\n",
    "    ### END SOLUTION"
   ]
  },
  {
   "cell_type": "code",
   "execution_count": null,
   "metadata": {},
   "outputs": [],
   "source": []
  }
 ],
 "metadata": {
  "kernelspec": {
   "display_name": "Python 3",
   "language": "python",
   "name": "python3"
  },
  "language_info": {
   "codemirror_mode": {
    "name": "ipython",
    "version": 3
   },
   "file_extension": ".py",
   "mimetype": "text/x-python",
   "name": "python",
   "nbconvert_exporter": "python",
   "pygments_lexer": "ipython3",
   "version": "3.7.4"
  }
 },
 "nbformat": 4,
 "nbformat_minor": 2
}
