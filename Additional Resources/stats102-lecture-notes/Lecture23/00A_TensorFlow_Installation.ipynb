{
 "cells": [
  {
   "cell_type": "markdown",
   "metadata": {},
   "source": [
    "# Stats 102 Week 6 Lab\n",
    "\n",
    "## TensorFlow Installation"
   ]
  },
  {
   "cell_type": "markdown",
   "metadata": {},
   "source": [
    "This notebook serves as a guide to install TensorFlow for Python 3.7. If you already have TensorFlow on your machine and feel confident in your installation, you can skip this notebook.\n",
    "\n",
    "For the purposes of this tutorial, I'm recommending using Anaconda as your Python distribution and for managing your environments. If you'd rather use some other distribution or version of Python and feel confident in your abilities, you may also choose to just follow the instructions here: https://www.tensorflow.org/install/.\n",
    "\n",
    "This tutorial is broken up by operating system (OS). Pick the instructions for the OS that you plan to use, and then check your install:"
   ]
  },
  {
   "cell_type": "markdown",
   "metadata": {},
   "source": [
    "### Contents\n",
    "1. Ubuntu\n",
    "2. Windows\n",
    "3. Mac OS X\n",
    "4. Verify TensorFlow Installation"
   ]
  },
  {
   "cell_type": "markdown",
   "metadata": {},
   "source": [
    "## Ubuntu"
   ]
  },
  {
   "cell_type": "markdown",
   "metadata": {},
   "source": [
    "1. In a terminal, create a conda environment for TensorFlow:\n",
    "\n",
    "    ```Shell\n",
    "    conda create -n tensorflow python=3.7\n",
    "    ```\n",
    "    \n",
    "    *Note: We want python 3.7 for this tutorial, but if for some reason you'd like to use a different version, adding \"python=[x.x]\" will instead create a environment with Python version [x.x] (eg 2.7, 3.5).*\n",
    "    \n",
    "2. Activate your new environment:\n",
    "\n",
    "    ```Shell\n",
    "    conda activate tensorflow\n",
    "    ```\n",
    "    \n",
    "    You will see your prompt prepend `(tensorflow)` to indicate that you are in your `tensorflow` environment.\n",
    "\n",
    "3. Install some prerequisite packages, as well as some that may be useful for this class:\n",
    "    \n",
    "    ```Shell\n",
    "    conda install imageio numpy matplotlib jupyter spyder tqdm urllib3 h5py\n",
    "    ```\n",
    "\n",
    "4. Install either the CPU version or GPU version of TensorFlow:\n",
    "\n",
    "    CPU: *(Recommended as sufficient for this class)*\n",
    "    ```Shell\n",
    "    pip install --ignore-installed --upgrade https://storage.googleapis.com/tensorflow/linux/cpu/tensorflow-1.12.0-cp36-cp36m-linux_x86_64.whl\n",
    "    ```\n",
    "    \n",
    "    GPU: (You'll also need to install some [Nvidia software](https://www.tensorflow.org/install/install_linux#nvidia_requirements_to_run_tensorflow_with_gpu_support))\n",
    "    ```Shell\n",
    "    pip install --ignore-installed --upgrade https://storage.googleapis.com/tensorflow/linux/gpu/tensorflow_gpu-1.12.0-cp36-cp36m-linux_x86_64.whl\n",
    "    ```\n",
    "\n",
    "    *Note: If you have GPUs available, you should use the GPU version for any serious research, as it is often 10-25x faster. For the purposes of this demo though, the CPU version is sufficent.*\n",
    "    \n",
    "5. Verify your install (see bottom of this notebook)"
   ]
  },
  {
   "cell_type": "markdown",
   "metadata": {},
   "source": [
    "## Windows"
   ]
  },
  {
   "cell_type": "markdown",
   "metadata": {},
   "source": [
    "1. Open a Command Prompt and create a conda environment for TensorFlow:\n",
    "\n",
    "    ```Shell\n",
    "    conda create -n tensorflow python=3.7\n",
    "    ```\n",
    "    *Note: We want python 3.6 for this tutorial, but if for some reason you'd like to use a different version, adding \"python=[x.x]\" will instead create a environment with Python version [x.x] (eg 2.7, 3.5).*\n",
    "    \n",
    "2. Activate your new environment:\n",
    "\n",
    "    ```Shell\n",
    "    activate tensorflow\n",
    "    ```\n",
    "    \n",
    "    You will see your prompt prepend `(tensorflow)` to indicate that you are in your `tensorflow` environment.\n",
    "\n",
    "3. Install some prerequisite packages, as well as some that may be useful for this class:\n",
    "    \n",
    "    ```Shell\n",
    "    conda install imageio numpy matplotlib jupyter spyder tqdm urllib3 h5py\n",
    "    ```\n",
    "\n",
    "4. Install either the CPU version or GPU version of TensorFlow:\n",
    "\n",
    "    CPU: *(Recommended as sufficient for this class)*\n",
    "    ```Shell\n",
    "    pip install --ignore-installed --upgrade https://storage.googleapis.com/tensorflow/windows/cpu/tensorflow-1.12.0-cp36-cp36m-win_amd64.whl\n",
    "    ```\n",
    "    \n",
    "    GPU: (You'll also need to install some [Nvidia software](https://www.tensorflow.org/install/install_windows#requirements_to_run_tensorflow_with_gpu_support)\n",
    "    ```Shell\n",
    "    pip install --ignore-installed --upgrade https://storage.googleapis.com/tensorflow/windows/gpu/tensorflow_gpu-1.12.0-cp36-cp36m-win_amd64.whl\n",
    "    ```\n",
    "\n",
    "    *Note: If you have GPUs available, you should use the GPU version for any serious research, as it is often 10-25x faster. For the purposes of this demo though, the CPU version is sufficent.*\n",
    "    \n",
    "5. Verify your install (see bottom of this notebook)"
   ]
  },
  {
   "cell_type": "markdown",
   "metadata": {},
   "source": [
    "## Mac OS X"
   ]
  },
  {
   "cell_type": "markdown",
   "metadata": {},
   "source": [
    "1. In a terminal, create a conda environment for TensorFlow:\n",
    "\n",
    "    ```Shell\n",
    "    conda create -n tensorflow python=3.7\n",
    "    ```\n",
    "    \n",
    "    *Note: We want python 3.6 for this tutorial, but if for some reason you'd like to use a different version, adding \"python=[x.x]\" will instead create a environment with Python version [x.x] (eg 2.7, 3.5).*\n",
    "    \n",
    "2. Activate your new environment:\n",
    "\n",
    "    ```Shell\n",
    "    conda activate tensorflow\n",
    "    ```\n",
    "    \n",
    "    You will see your prompt prepend `(tensorflow)` to indicate that you are in your `tensorflow` environment.\n",
    "\n",
    "3. Install some prerequisite packages, as well as some that may be useful for this class:\n",
    "    \n",
    "    ```Shell\n",
    "    conda install imageio numpy matplotlib jupyter spyder tqdm urllib3 h5py\n",
    "    ```\n",
    "\n",
    "4. Install either the CPU version or GPU version of TensorFlow:\n",
    "\n",
    "    CPU:\n",
    "    ```Shell\n",
    "    pip install --ignore-installed --upgrade https://storage.googleapis.com/tensorflow/mac/cpu/tensorflow-1.12.0-py3-none-any.whl\n",
    "    ```\n",
    "    \n",
    "    GPU: Unfortunately, TensorFlow with GPU compatibility is no longer supported on Mac OS X\n",
    "\n",
    "    *Note: If you have them available, you should use a machine with GPUs, as it is often 10-25x faster. For the purposes of this demo though, the CPU version is sufficent.*\n",
    "    \n",
    "5. Verify your install (see bottom of this notebook)\n",
    "6. Install Packages"
   ]
  },
  {
   "cell_type": "markdown",
   "metadata": {},
   "source": [
    "## Verify TensorFlow Installation"
   ]
  },
  {
   "cell_type": "markdown",
   "metadata": {},
   "source": [
    "1. While in your `tensorflow` environment, enter the Python shell with:\n",
    "    \n",
    "    ```Shell\n",
    "    python\n",
    "    ```\n",
    "    \n",
    "    Verify that your python version says Python 3.6.[x].\n",
    "    \n",
    "2. Enter this program into your Python shell:\n",
    "\n",
    "    ```Shell\n",
    "    import tensorflow as tf\n",
    "    hello = tf.constant('Hello, TensorFlow!')\n",
    "    sess = tf.Session()\n",
    "    print(sess.run(hello))\n",
    "    ```\n",
    "    \n",
    "    Possible warnings that `The TensorFlow library wasn't compiled to use * instructions` can be ignored. These warnings state that building from source can lead to speed improvements, but these won't make a dramatic difference for these demos.\n",
    "    \n",
    "    Your command line should return:\n",
    "    \n",
    "    ```Shell\n",
    "    Hello, TensorFlow!\n",
    "    ```   "
   ]
  },
  {
   "cell_type": "code",
   "execution_count": 1,
   "metadata": {},
   "outputs": [
    {
     "ename": "ModuleNotFoundError",
     "evalue": "No module named 'tensorflow'",
     "output_type": "error",
     "traceback": [
      "\u001b[0;31m---------------------------------------------------------------------------\u001b[0m",
      "\u001b[0;31mModuleNotFoundError\u001b[0m                       Traceback (most recent call last)",
      "\u001b[0;32m<ipython-input-1-25b92e4d5dec>\u001b[0m in \u001b[0;36m<module>\u001b[0;34m\u001b[0m\n\u001b[0;32m----> 1\u001b[0;31m \u001b[0;32mimport\u001b[0m \u001b[0mtensorflow\u001b[0m \u001b[0;32mas\u001b[0m \u001b[0mtf\u001b[0m\u001b[0;34m\u001b[0m\u001b[0;34m\u001b[0m\u001b[0m\n\u001b[0m\u001b[1;32m      2\u001b[0m \u001b[0mhello\u001b[0m \u001b[0;34m=\u001b[0m \u001b[0mtf\u001b[0m\u001b[0;34m.\u001b[0m\u001b[0mconstant\u001b[0m\u001b[0;34m(\u001b[0m\u001b[0;34m'Hello, TensorFlow!'\u001b[0m\u001b[0;34m)\u001b[0m\u001b[0;34m\u001b[0m\u001b[0;34m\u001b[0m\u001b[0m\n\u001b[1;32m      3\u001b[0m \u001b[0msess\u001b[0m \u001b[0;34m=\u001b[0m \u001b[0mtf\u001b[0m\u001b[0;34m.\u001b[0m\u001b[0mSession\u001b[0m\u001b[0;34m(\u001b[0m\u001b[0;34m)\u001b[0m\u001b[0;34m\u001b[0m\u001b[0;34m\u001b[0m\u001b[0m\n\u001b[1;32m      4\u001b[0m \u001b[0mprint\u001b[0m\u001b[0;34m(\u001b[0m\u001b[0msess\u001b[0m\u001b[0;34m.\u001b[0m\u001b[0mrun\u001b[0m\u001b[0;34m(\u001b[0m\u001b[0mhello\u001b[0m\u001b[0;34m)\u001b[0m\u001b[0;34m)\u001b[0m\u001b[0;34m\u001b[0m\u001b[0;34m\u001b[0m\u001b[0m\n",
      "\u001b[0;31mModuleNotFoundError\u001b[0m: No module named 'tensorflow'"
     ]
    }
   ],
   "source": [
    " import tensorflow as tf\n",
    " hello = tf.constant('Hello, TensorFlow!')\n",
    " sess = tf.Session()\n",
    " print(sess.run(hello))"
   ]
  },
  {
   "cell_type": "code",
   "execution_count": null,
   "metadata": {},
   "outputs": [],
   "source": []
  }
 ],
 "metadata": {
  "kernelspec": {
   "display_name": "Python 3",
   "language": "python",
   "name": "python3"
  },
  "language_info": {
   "codemirror_mode": {
    "name": "ipython",
    "version": 3
   },
   "file_extension": ".py",
   "mimetype": "text/x-python",
   "name": "python",
   "nbconvert_exporter": "python",
   "pygments_lexer": "ipython3",
   "version": "3.7.4"
  }
 },
 "nbformat": 4,
 "nbformat_minor": 1
}
