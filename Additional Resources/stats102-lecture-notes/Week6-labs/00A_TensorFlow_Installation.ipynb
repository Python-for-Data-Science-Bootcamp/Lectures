{
 "cells": [
  {
   "cell_type": "markdown",
   "metadata": {},
   "source": [
    "# TensorFlow Installation"
   ]
  },
  {
   "cell_type": "markdown",
   "metadata": {},
   "source": [
    "A walkthrough to install TensorFlow for Python 2.7. If you already have TensorFlow on your machine and feel confident in your installation, you can skip this notebook.\n",
    "\n",
    "For the purposes of this tutorial, I'm recommending using Anaconda as your Python distribution and for managing your environments. If you'd rather use some other distribution or version of Python and feel confident in your abilities, you may also choose to just follow the instructions here: https://www.tensorflow.org/install/.\n",
    "\n",
    "This tutorial is broken up by operating system (OS). Pick the instructions for the OS that you plan to use, and then check your install:"
   ]
  },
  {
   "cell_type": "markdown",
   "metadata": {},
   "source": [
    "### Contents\n",
    "1. Ubuntu\n",
    "2. Windows\n",
    "3. Mac OS X\n",
    "4. Verify TensorFlow Installation"
   ]
  },
  {
   "cell_type": "markdown",
   "metadata": {},
   "source": [
    "## Ubuntu"
   ]
  },
  {
   "cell_type": "markdown",
   "metadata": {},
   "source": [
    "## 1. In a terminal, create a conda environment for TensorFlow:\n",
    "\n",
    "    ```Shell\n",
    "    conda create -n tensorflow python=2.7\n",
    "    ```\n",
    "    \n",
    "2. Activate your new environment:\n",
    "\n",
    "    ```Shell\n",
    "    conda activate tensorflow\n",
    "    ```\n",
    "    \n",
    "    You will see your prompt prepend `(tensorflow)` to indicate that you are in your `tensorflow` environment.\n",
    "\n",
    "3. Install some prerequisite packages, as well as some that may be useful for this class:\n",
    "    \n",
    "    ```Shell\n",
    "    conda install imageio numpy matplotlib jupyter spyder tqdm urllib3 h5py\n",
    "    ```\n",
    "    \n",
    "4. Verify your install (see bottom of this notebook)"
   ]
  },
  {
   "cell_type": "markdown",
   "metadata": {},
   "source": [
    "## Windows"
   ]
  },
  {
   "cell_type": "markdown",
   "metadata": {},
   "source": [
    "1. Open a Command Prompt and create a conda environment for TensorFlow:\n",
    "\n",
    "    ```Shell\n",
    "    conda create -n tensorflow python=2.7\n",
    "    ```\n",
    "    \n",
    "2. Activate your new environment:\n",
    "\n",
    "    ```Shell\n",
    "    activate tensorflow\n",
    "    ```\n",
    "    \n",
    "    You will see your prompt prepend `(tensorflow)` to indicate that you are in your `tensorflow` environment.\n",
    "\n",
    "3. Install some prerequisite packages, as well as some that may be useful for this class:\n",
    "    \n",
    "    ```Shell\n",
    "    conda install imageio numpy matplotlib jupyter spyder tqdm urllib3 h5py\n",
    "    ```\n",
    "\n",
    "4. Verify your install (see bottom of this notebook)"
   ]
  },
  {
   "cell_type": "markdown",
   "metadata": {},
   "source": [
    "## Mac OS X"
   ]
  },
  {
   "cell_type": "markdown",
   "metadata": {},
   "source": [
    "## 1. In a terminal, create a conda environment for TensorFlow:\n",
    "\n",
    "    ```Shell\n",
    "    conda create -n tensorflow python=2.7\n",
    "    ```\n",
    "    \n",
    "2. Activate your new environment:\n",
    "\n",
    "    ```Shell\n",
    "    conda activate tensorflow\n",
    "    ```\n",
    "    \n",
    "    You will see your prompt prepend `(tensorflow)` to indicate that you are in your `tensorflow` environment.\n",
    "\n",
    "3. Install some prerequisite packages, as well as some that may be useful for this class:\n",
    "    \n",
    "    ```Shell\n",
    "    conda install imageio numpy matplotlib jupyter spyder tqdm urllib3 h5py\n",
    "    ```\n",
    "\n",
    "5. Verify your install (see bottom of this notebook)"
   ]
  },
  {
   "cell_type": "markdown",
   "metadata": {},
   "source": [
    "## Verify TensorFlow Installation"
   ]
  },
  {
   "cell_type": "markdown",
   "metadata": {},
   "source": [
    "## 1. While in your `tensorflow` environment, enter the Python shell with:\n",
    "    \n",
    "    ```Shell\n",
    "    python\n",
    "    ```\n",
    "    \n",
    "    Verify that your python version says Python 2.7.[x].\n",
    "    \n",
    "2. Enter this program into your Python shell:\n",
    "\n",
    "    ```Shell\n",
    "    import tensorflow as tf\n",
    "    hello = tf.constant('Hello, TensorFlow!')\n",
    "    sess = tf.Session()\n",
    "    print(sess.run(hello))\n",
    "    ```\n",
    "    \n",
    "    Possible warnings that `The TensorFlow library wasn't compiled to use * instructions` can be ignored. These warnings state that building from source can lead to speed improvements, but these won't make a dramatic difference for these demos.\n",
    "    \n",
    "    Your command line should return:\n",
    "    \n",
    "    ```Shell\n",
    "    Hello, TensorFlow!\n",
    "    ```   "
   ]
  },
  {
   "cell_type": "code",
   "execution_count": 2,
   "metadata": {},
   "outputs": [
    {
     "name": "stdout",
     "output_type": "stream",
     "text": [
      "b'Hello, TensorFlow!'\n"
     ]
    }
   ],
   "source": [
    " import tensorflow as tf\n",
    " hello = tf.constant('Hello, TensorFlow!')\n",
    " sess = tf.Session()\n",
    " print(sess.run(hello))"
   ]
  },
  {
   "cell_type": "code",
   "execution_count": null,
   "metadata": {},
   "outputs": [],
   "source": []
  }
 ],
 "metadata": {
  "kernelspec": {
   "display_name": "Python 3",
   "language": "python",
   "name": "python3"
  },
  "language_info": {
   "codemirror_mode": {
    "name": "ipython",
    "version": 3
   },
   "file_extension": ".py",
   "mimetype": "text/x-python",
   "name": "python",
   "nbconvert_exporter": "python",
   "pygments_lexer": "ipython3",
   "version": "3.7.4"
  }
 },
 "nbformat": 4,
 "nbformat_minor": 1
}
